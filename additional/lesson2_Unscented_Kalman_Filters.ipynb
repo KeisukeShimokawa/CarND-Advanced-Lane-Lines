{
  "nbformat": 4,
  "nbformat_minor": 0,
  "metadata": {
    "colab": {
      "name": "lesson2 Unscented Kalman Filters",
      "provenance": [],
      "collapsed_sections": [],
      "authorship_tag": "ABX9TyPI1j74iDeXvM4XfTAPm71k",
      "include_colab_link": true
    },
    "kernelspec": {
      "name": "python3",
      "display_name": "Python 3"
    }
  },
  "cells": [
    {
      "cell_type": "markdown",
      "metadata": {
        "id": "view-in-github",
        "colab_type": "text"
      },
      "source": [
        "<a href=\"https://colab.research.google.com/github/KeisukeShimokawa/CarND-Advanced-Lane-Lines/blob/master/additional/lesson2_Unscented_Kalman_Filters.ipynb\" target=\"_parent\"><img src=\"https://colab.research.google.com/assets/colab-badge.svg\" alt=\"Open In Colab\"/></a>"
      ]
    },
    {
      "cell_type": "markdown",
      "metadata": {
        "id": "wCXxGWSGfL4g",
        "colab_type": "text"
      },
      "source": [
        "## Lesson2 The CTRV Model\n",
        "\n",
        "拡張カルマンフィルタで使用したモデルはConstant Velocity Model(CV)になる。これは最も基礎的なものであり、応用として以下のモデルも存在する。\n",
        "\n",
        "- constant turn rate and velocity magnitude model (CTRV)\n",
        "- constant turn rate and acceleration (CTRA)\n",
        "- constant steering angle and velocity (CSAV)\n",
        "- constant curvature and acceleration (CCA)\n",
        "\n",
        "それぞれのモデルで仮定している車の挙動は異なるが、ここではCTRVモデルを考えていく。\n",
        "\n",
        "ではどうすれば一定速度の状況で車の曲がる角度を予測できるのか。\n",
        "\n",
        "![](https://i.gyazo.com/8e8c8964248c5eb36d2e9820382fcfc9.png)"
      ]
    },
    {
      "cell_type": "markdown",
      "metadata": {
        "id": "P_Fc1xB_fLvf",
        "colab_type": "text"
      },
      "source": [
        "## Lesson3 The CTRV Model State Vector\n",
        "\n",
        "2次元上での挙動を考える。拡張カルマンフィルタでは、位置と同様にx方向の速度とy方向の速度を定義していた。\n",
        "\n",
        "![](https://i.gyazo.com/99b3b35d1cf2618bb43347ae60bdd6b7.png)\n",
        "\n",
        "Unscentedカルマンフィルタでは、各軸方向の速度を定義する代わりに、極座標での速度と角速度を定義する。\n",
        "\n",
        "角度$\\psi$は車のハンドルの向きを示しており、角速度$\\dot{\\psi}$はハンドルをどの程度早くきっているのかを示している。（どの程度早く曲がるのかを示す。）\n",
        "\n",
        "![](https://i.gyazo.com/e1849e3f656fced188d3ab10cca381ea.png)"
      ]
    },
    {
      "cell_type": "code",
      "metadata": {
        "id": "E-5UXdMffGpb",
        "colab_type": "code",
        "colab": {}
      },
      "source": [
        ""
      ],
      "execution_count": 0,
      "outputs": []
    }
  ]
}