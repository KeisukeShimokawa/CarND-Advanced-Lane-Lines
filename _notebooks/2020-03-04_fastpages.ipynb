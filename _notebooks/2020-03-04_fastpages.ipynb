{
  "nbformat": 4,
  "nbformat_minor": 0,
  "metadata": {
    "colab": {
      "name": "2020-03-04-fastpages.ipynb",
      "provenance": [],
      "collapsed_sections": [],
      "authorship_tag": "ABX9TyM+db5dK6eXO1Jg3r6o9Cgf"
    },
    "kernelspec": {
      "name": "python3",
      "display_name": "Python 3"
    }
  },
  "cells": [
    {
      "cell_type": "markdown",
      "metadata": {
        "id": "Fw6BxsHx1Bmp",
        "colab_type": "text"
      },
      "source": [
        "# \"Title\"\n",
        "> \"Awesome summary\"\n",
        "- toc: true\n",
        "- branch: master\n",
        "- badges: true\n",
        "- comments: true\n",
        "- categories: [jupyter]"
      ]
    },
    {
      "cell_type": "markdown",
      "metadata": {
        "id": "LdRUj5_GqcUd",
        "colab_type": "text"
      },
      "source": [
        "# fastpagesの使い方\n",
        "\n",
        "なおこのノートブックは、Colab上で作成しています。\n",
        "\n",
        "このノートブックでは、公式のサンプルを見ながらfastpagesでの書き方を学んでいきます。\n",
        "\n",
        "- [fastai/fastpages](https://github.com/fastai/fastpages#front-matter-related-options)\n",
        "- [Sample Blog Post](https://fastpages.fast.ai/jupyter/2020/02/20/test.html)"
      ]
    },
    {
      "cell_type": "markdown",
      "metadata": {
        "id": "Xfnoe-zjvq6x",
        "colab_type": "text"
      },
      "source": [
        "## タイトルの書き方\n",
        "\n",
        "以下の内容をはじめのセルに、Markdown形式で記述します。\n",
        "\n",
        "- `toc`で目次を自動生成\n",
        "- `badges`でGithubとColabへのリンクを自動生成\n",
        "- `comments`で記事にコメントを追加可能\n",
        "\n",
        "```\n",
        "# \"Title\"\n",
        "> \"Awesome summary\"\n",
        "- toc: false\n",
        "- branch: master\n",
        "- badges: true\n",
        "- comments: true\n",
        "- categories: [fastpages, jupyter]\n",
        "- image: images/some_folder/your_image.png\n",
        "- metadata_key1: metadata_value1\n",
        "- metadata_key2: metadata_value2\n",
        "```\n",
        "\n",
        "タグを記事に表示したい場合は、`_config.yml`の`show_tag`を`true`に設定します。\n",
        "\n",
        "```\n",
        "show_tag: true\n",
        "```"
      ]
    },
    {
      "cell_type": "markdown",
      "metadata": {
        "id": "fzl4HX0dzf2f",
        "colab_type": "text"
      },
      "source": [
        "## Jupyter Notebookの書き方"
      ]
    },
    {
      "cell_type": "markdown",
      "metadata": {
        "id": "dScFCPES0l_A",
        "colab_type": "text"
      },
      "source": [
        "- `#hide`でセルの中身と出力の両方を非表示にする\n",
        "- `#hide_input`でセルの中身のみを非表示にする。"
      ]
    },
    {
      "cell_type": "code",
      "metadata": {
        "id": "ikMoDkqa0l8C",
        "colab_type": "code",
        "colab": {
          "base_uri": "https://localhost:8080/",
          "height": 34
        },
        "outputId": "23b8d746-3b1b-4d06-9370-daaa706b3d57"
      },
      "source": [
        "#hide_input\n",
        "print('The comment #hide_input was used to hide the code that produced this.')"
      ],
      "execution_count": 1,
      "outputs": [
        {
          "output_type": "stream",
          "text": [
            "The comment #hide_input was used to hide the code that produced this.\n"
          ],
          "name": "stdout"
        }
      ]
    },
    {
      "cell_type": "markdown",
      "metadata": {
        "id": "e38oCAqn0l4H",
        "colab_type": "text"
      },
      "source": [
        "- `collapse-hide`でデフォルトでセルを非表示にするが、読者が自身で表示状態にもできる"
      ]
    },
    {
      "cell_type": "code",
      "metadata": {
        "id": "r3MTrXmt0lnd",
        "colab_type": "code",
        "colab": {}
      },
      "source": [
        "#collapse-hide\n",
        "import pandas as pd\n",
        "import altair as alt"
      ],
      "execution_count": 0,
      "outputs": []
    },
    {
      "cell_type": "markdown",
      "metadata": {
        "id": "-EOzJb2w1aJu",
        "colab_type": "text"
      },
      "source": [
        "- `#collapse-show`で反対にデフォルトでセルの中身を表示して、ボタンで非表示形式に変更可能"
      ]
    },
    {
      "cell_type": "code",
      "metadata": {
        "id": "j4uzZl591aG_",
        "colab_type": "code",
        "colab": {}
      },
      "source": [
        "#collapse-show\n",
        "cars = 'https://vega.github.io/vega-datasets/data/cars.json'\n",
        "movies = 'https://vega.github.io/vega-datasets/data/movies.json'\n",
        "sp500 = 'https://vega.github.io/vega-datasets/data/sp500.csv'\n",
        "stocks = 'https://vega.github.io/vega-datasets/data/stocks.csv'\n",
        "flights = 'https://vega.github.io/vega-datasets/data/flights-5k.json'"
      ],
      "execution_count": 0,
      "outputs": []
    },
    {
      "cell_type": "markdown",
      "metadata": {
        "id": "3LDj5KxG1aD_",
        "colab_type": "text"
      },
      "source": [
        "これぐらいして知っておけばブログはかけそう。\n",
        "\n",
        "より詳細な書き方は公式を参考にする。"
      ]
    },
    {
      "cell_type": "markdown",
      "metadata": {
        "id": "cwRIhDhw1aBG",
        "colab_type": "text"
      },
      "source": [
        "## 数式のサンプル"
      ]
    },
    {
      "cell_type": "markdown",
      "metadata": {
        "id": "IzuzIynS1Zlc",
        "colab_type": "text"
      },
      "source": [
        "$$\n",
        "\\min _{G} \\max _{D} V(D, G)=\\mathbb{E}_{\\boldsymbol{x} \\sim p_{d x a}(\\boldsymbol{x})}[\\log D(\\boldsymbol{x})]+\\mathbb{E}_{\\boldsymbol{z} \\sim p_{\\boldsymbol{z}}(\\boldsymbol{z})}[\\log (1-D(G(\\boldsymbol{z})))]\n",
        "$$"
      ]
    },
    {
      "cell_type": "markdown",
      "metadata": {
        "id": "yeskt2QA2t-x",
        "colab_type": "text"
      },
      "source": [
        "\\begin{equation}\n",
        "\\min _{G} \\max _{D} V(D, G)=\\mathbb{E}_{\\boldsymbol{x} \\sim p_{d x a}(\\boldsymbol{x})}[\\log D(\\boldsymbol{x})]+\\mathbb{E}_{\\boldsymbol{z} \\sim p_{\\boldsymbol{z}}(\\boldsymbol{z})}[\\log (1-D(G(\\boldsymbol{z})))]\n",
        "\\end{equation}"
      ]
    },
    {
      "cell_type": "markdown",
      "metadata": {
        "id": "1v8nB_3S4bJe",
        "colab_type": "text"
      },
      "source": [
        "$$\n",
        "\\min _{G} \\max _{D} V(D, G)=\\mathbb{E}_{\\boldsymbol{x} \\sim p_{d x a}(\\boldsymbol{x})}[\\log D(\\boldsymbol{x})]+\\mathbb{E}_{\\boldsymbol{z} \\sim p_{\\boldsymbol{z}}(\\boldsymbol{z})}[\\log (1-D(G(\\boldsymbol{z})))]\n",
        "$$"
      ]
    },
    {
      "cell_type": "code",
      "metadata": {
        "id": "npWxwPAJ4dh2",
        "colab_type": "code",
        "colab": {}
      },
      "source": [
        ""
      ],
      "execution_count": 0,
      "outputs": []
    }
  ]
}