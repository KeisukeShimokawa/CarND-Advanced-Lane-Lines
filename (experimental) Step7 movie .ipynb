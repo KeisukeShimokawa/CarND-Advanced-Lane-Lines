{
 "cells": [
  {
   "cell_type": "code",
   "execution_count": 10,
   "metadata": {},
   "outputs": [],
   "source": [
    "%reload_ext autoreload\n",
    "%autoreload 2\n",
    "%matplotlib inline"
   ]
  },
  {
   "cell_type": "code",
   "execution_count": 11,
   "metadata": {},
   "outputs": [],
   "source": [
    "import cv2\n",
    "import glob\n",
    "import pickle\n",
    "import numpy as np\n",
    "import matplotlib.pyplot as plt\n",
    "from tqdm import tqdm"
   ]
  },
  {
   "cell_type": "code",
   "execution_count": 12,
   "metadata": {},
   "outputs": [],
   "source": [
    "from utils import get_binary_mask_from_image, \\\n",
    "                get_leftx_rightx_base,\\\n",
    "                get_left_right_lane_xy,\\\n",
    "                get_lane_line_coefficients,\\\n",
    "                get_lane_line_position,\\\n",
    "                get_lane_pts_for_fillPoly,\\\n",
    "                get_lane_rectangle_image,\\\n",
    "                weighted_img,\\\n",
    "                get_lane_curvature,\\\n",
    "                print_curvature_info"
   ]
  },
  {
   "cell_type": "code",
   "execution_count": null,
   "metadata": {},
   "outputs": [],
   "source": []
  },
  {
   "cell_type": "code",
   "execution_count": 13,
   "metadata": {},
   "outputs": [
    {
     "data": {
      "text/plain": [
       "['./test_images/straight_lines1_dst.jpg',\n",
       " './test_images/test2_dst.jpg',\n",
       " './test_images/test6_dst.jpg',\n",
       " './test_images/test3_dst.jpg',\n",
       " './test_images/test1_dst.jpg',\n",
       " './test_images/test4_dst.jpg',\n",
       " './test_images/straight_lines2_dst.jpg',\n",
       " './test_images/test5_dst.jpg']"
      ]
     },
     "execution_count": 13,
     "metadata": {},
     "output_type": "execute_result"
    }
   ],
   "source": [
    "test_images_path = glob.glob('./test_images/*_dst.jpg')\n",
    "test_images_path"
   ]
  },
  {
   "cell_type": "code",
   "execution_count": 14,
   "metadata": {},
   "outputs": [],
   "source": [
    "with open('experimental/cfg.pickle', 'rb') as f:\n",
    "    cfg = pickle.load(f)\n",
    "    \n",
    "with open('experimental/data.pickle', 'rb') as f:\n",
    "    data = pickle.load(f)\n",
    "    \n",
    "with open('experimental/perspective_mtx.pickle', 'rb') as f:\n",
    "    perspective_mtx = pickle.load(f)"
   ]
  },
  {
   "cell_type": "code",
   "execution_count": null,
   "metadata": {},
   "outputs": [],
   "source": []
  },
  {
   "cell_type": "code",
   "execution_count": null,
   "metadata": {},
   "outputs": [],
   "source": []
  },
  {
   "cell_type": "code",
   "execution_count": 18,
   "metadata": {},
   "outputs": [
    {
     "name": "stderr",
     "output_type": "stream",
     "text": [
      "100%|██████████| 1/1 [00:00<00:00,  5.04it/s]\n"
     ]
    }
   ],
   "source": [
    "cap = cv2.VideoCapture('./project_video.mp4')\n",
    "\n",
    "fourcc = cv2.VideoWriter_fourcc(*'XVID')\n",
    "frames = int(cap.get(cv2.CAP_PROP_FRAME_COUNT))\n",
    "fps = cap.get(cv2.CAP_PROP_FPS)\n",
    "width = int(cap.get(cv2.CAP_PROP_FRAME_WIDTH))\n",
    "height = int(cap.get(cv2.CAP_PROP_FRAME_HEIGHT))\n",
    "size = (width, height)\n",
    "out = cv2.VideoWriter('project_output.mp4', fourcc, fps, size)\n",
    "\n",
    "for ith in tqdm(range(frames)):\n",
    "    \n",
    "    # frame : BGR-scale image\n",
    "    ret, frame = cap.read()\n",
    "    \n",
    "    if ret == True:\n",
    "        frame = dst = cv2.undistort(frame, data['mtx'], data['dist'], None, data['newcameramtx'])\n",
    "        frame_rgb = cv2.cvtColor(frame, cv2.COLOR_BGR2RGB)\n",
    "        binary = get_binary_mask_from_image(frame, cfg)\n",
    "        binary_warped = cv2.warpPerspective(binary, perspective_mtx['M'], size)\n",
    "        leftx_base, rightx_base = get_leftx_rightx_base(binary_warped)\n",
    "        leftx, lefty, rightx, righty = get_left_right_lane_xy(binary_warped, \n",
    "                                                              leftx_base, \n",
    "                                                              rightx_base)\n",
    "        left_fit, right_fit = get_lane_line_coefficients(leftx, lefty, rightx, righty)\n",
    "        left_fitx, right_fitx, ploty = get_lane_line_position(size[1], left_fit, right_fit)\n",
    "        lane_pts = get_lane_pts_for_fillPoly(left_fitx, right_fitx, ploty)\n",
    "        img_lane_warped = get_lane_rectangle_image(binary_warped, lane_pts)\n",
    "        img_lane = cv2.warpPerspective(img_lane_warped, perspective_mtx['MInv'], size)\n",
    "        \n",
    "        out_img = weighted_img(img_lane, frame_rgb)\n",
    "        left_curvature, right_curvature = get_lane_curvature(left_fit, right_fit, ploty)\n",
    "        window_img = print_curvature_info(out_img, left_curvature, right_curvature)\n",
    "        \n",
    "        out.write(window_img)\n",
    "        \n",
    "    else:\n",
    "        break\n",
    "        \n",
    "cap.release()\n",
    "out.release()"
   ]
  },
  {
   "cell_type": "code",
   "execution_count": null,
   "metadata": {},
   "outputs": [],
   "source": []
  },
  {
   "cell_type": "code",
   "execution_count": 20,
   "metadata": {},
   "outputs": [],
   "source": [
    "def create_video(in_file, out_file, data, cfg, perspective_mtx):\n",
    "    cap = cv2.VideoCapture(in_file)\n",
    "\n",
    "    fourcc = cv2.VideoWriter_fourcc(*'XVID')\n",
    "    frames = int(cap.get(cv2.CAP_PROP_FRAME_COUNT))\n",
    "    fps = cap.get(cv2.CAP_PROP_FPS)\n",
    "    width = int(cap.get(cv2.CAP_PROP_FRAME_WIDTH))\n",
    "    height = int(cap.get(cv2.CAP_PROP_FRAME_HEIGHT))\n",
    "    size = (width, height)\n",
    "    out = cv2.VideoWriter(out_file, fourcc, fps, size)\n",
    "\n",
    "    for ith in tqdm(range(frames)):\n",
    "\n",
    "        # frame : BGR-scale image\n",
    "        ret, frame = cap.read()\n",
    "\n",
    "        if ret == True:\n",
    "            frame = dst = cv2.undistort(frame, data['mtx'], data['dist'], None, data['newcameramtx'])\n",
    "            frame_rgb = cv2.cvtColor(frame, cv2.COLOR_BGR2RGB)\n",
    "            binary = get_binary_mask_from_image(frame, cfg)\n",
    "            binary_warped = cv2.warpPerspective(binary, perspective_mtx['M'], size)\n",
    "            leftx_base, rightx_base = get_leftx_rightx_base(binary_warped)\n",
    "            leftx, lefty, rightx, righty = get_left_right_lane_xy(binary_warped, \n",
    "                                                                  leftx_base, \n",
    "                                                                  rightx_base)\n",
    "            left_fit, right_fit = get_lane_line_coefficients(leftx, lefty, rightx, righty)\n",
    "            left_fitx, right_fitx, ploty = get_lane_line_position(size[1], left_fit, right_fit)\n",
    "            lane_pts = get_lane_pts_for_fillPoly(left_fitx, right_fitx, ploty)\n",
    "            img_lane_warped = get_lane_rectangle_image(binary_warped, lane_pts)\n",
    "            img_lane = cv2.warpPerspective(img_lane_warped, perspective_mtx['MInv'], size)\n",
    "\n",
    "            out_img = weighted_img(img_lane, frame_rgb)\n",
    "            left_curvature, right_curvature = get_lane_curvature(left_fit, right_fit, ploty)\n",
    "            window_img = print_curvature_info(out_img, left_curvature, right_curvature)\n",
    "\n",
    "            out.write(window_img)\n",
    "\n",
    "        else:\n",
    "            break\n",
    "\n",
    "    cap.release()\n",
    "    out.release()"
   ]
  },
  {
   "cell_type": "code",
   "execution_count": null,
   "metadata": {},
   "outputs": [],
   "source": []
  },
  {
   "cell_type": "code",
   "execution_count": null,
   "metadata": {},
   "outputs": [
    {
     "name": "stderr",
     "output_type": "stream",
     "text": [
      " 83%|████████▎ | 1041/1260 [02:42<00:38,  5.70it/s]"
     ]
    }
   ],
   "source": [
    "create_video('./project_video.mp4', './project_output.mp4',\n",
    "             data, cfg, perspective_mtx)"
   ]
  },
  {
   "cell_type": "code",
   "execution_count": null,
   "metadata": {},
   "outputs": [],
   "source": [
    "create_video('./challenge_video.mp4', './challenge_output.mp4',\n",
    "             data, cfg, perspective_mtx)"
   ]
  },
  {
   "cell_type": "code",
   "execution_count": null,
   "metadata": {},
   "outputs": [],
   "source": [
    "create_video('./harder_challenge_video.mp4', './harder_challenge_output.mp4',\n",
    "             data, cfg, perspective_mtx)"
   ]
  },
  {
   "cell_type": "code",
   "execution_count": null,
   "metadata": {},
   "outputs": [],
   "source": []
  }
 ],
 "metadata": {
  "kernelspec": {
   "display_name": "Python 3",
   "language": "python",
   "name": "python3"
  },
  "language_info": {
   "codemirror_mode": {
    "name": "ipython",
    "version": 3
   },
   "file_extension": ".py",
   "mimetype": "text/x-python",
   "name": "python",
   "nbconvert_exporter": "python",
   "pygments_lexer": "ipython3",
   "version": "3.6.3"
  }
 },
 "nbformat": 4,
 "nbformat_minor": 2
}
