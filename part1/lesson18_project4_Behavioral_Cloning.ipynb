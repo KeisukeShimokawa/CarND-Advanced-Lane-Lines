{
  "nbformat": 4,
  "nbformat_minor": 0,
  "metadata": {
    "colab": {
      "name": "lesson18 project4 Behavioral Cloning.ipynb",
      "provenance": [],
      "collapsed_sections": [],
      "machine_shape": "hm",
      "authorship_tag": "ABX9TyOQt5s0y6GRSf67/oSocfTa",
      "include_colab_link": true
    },
    "kernelspec": {
      "name": "python3",
      "display_name": "Python 3"
    },
    "accelerator": "GPU"
  },
  "cells": [
    {
      "cell_type": "markdown",
      "metadata": {
        "id": "view-in-github",
        "colab_type": "text"
      },
      "source": [
        "<a href=\"https://colab.research.google.com/github/KeisukeShimokawa/CarND-Advanced-Lane-Lines/blob/master/part1/lesson18_project4_Behavioral_Cloning.ipynb\" target=\"_parent\"><img src=\"https://colab.research.google.com/assets/colab-badge.svg\" alt=\"Open In Colab\"/></a>"
      ]
    },
    {
      "cell_type": "code",
      "metadata": {
        "id": "1nBREtnN3SM_",
        "colab_type": "code",
        "colab": {}
      },
      "source": [
        "%tensorflow_version 1.x"
      ],
      "execution_count": 0,
      "outputs": []
    },
    {
      "cell_type": "markdown",
      "metadata": {
        "id": "1xtY4vUH2lHP",
        "colab_type": "text"
      },
      "source": [
        "# Project3 Behavioral Cloning"
      ]
    },
    {
      "cell_type": "markdown",
      "metadata": {
        "id": "E3_EixRA3HHn",
        "colab_type": "text"
      },
      "source": [
        "## 提出課題\n",
        "\n",
        "- Github Repository\n",
        "  - `drive.py`\n",
        "    - 学習させたモデルを実際に車に適用する\n",
        "  - `writeup.md`\n",
        "    - 説明文\n",
        "  - `video.py`\n",
        "    - 自動運転の様子を収めた動画を作成する\n",
        "\n",
        "- sample driving data\n",
        "  - `/opt/carnd_p3/data/`のフォルダに含まれている。\n",
        "  - 自分で学習データを使用したい場合は、ほかのフォルダに保存しておく。"
      ]
    },
    {
      "cell_type": "markdown",
      "metadata": {
        "id": "s_9NDszy4yoT",
        "colab_type": "text"
      },
      "source": [
        "## Running the Simulator\n",
        "\n",
        "![](https://i.gyazo.com/f9128d11684a79bab37cf706577180d8.png)\n",
        "\n",
        "ソースコードは[コチラ](https://github.com/udacity/self-driving-car-sim)\n",
        "\n",
        "操作方法とかは、動画を見たほうが早い"
      ]
    },
    {
      "cell_type": "code",
      "metadata": {
        "id": "ls83Uy_D6UaD",
        "colab_type": "code",
        "outputId": "384dcee1-1856-434b-d668-bee2b9c8735f",
        "colab": {
          "base_uri": "https://localhost:8080/",
          "height": 548
        }
      },
      "source": [
        "from IPython.display import HTML\n",
        "\n",
        "HTML(r'<iframe width=\"901\" height=\"507\" src=\"https://www.youtube.com/embed/kTJiHXJe_t4\" frameborder=\"0\" allow=\"accelerometer; autoplay; encrypted-media; gyroscope; picture-in-picture\" allowfullscreen></iframe>')"
      ],
      "execution_count": 2,
      "outputs": [
        {
          "output_type": "execute_result",
          "data": {
            "text/html": [
              "<iframe width=\"901\" height=\"507\" src=\"https://www.youtube.com/embed/kTJiHXJe_t4\" frameborder=\"0\" allow=\"accelerometer; autoplay; encrypted-media; gyroscope; picture-in-picture\" allowfullscreen></iframe>"
            ],
            "text/plain": [
              "<IPython.core.display.HTML object>"
            ]
          },
          "metadata": {
            "tags": []
          },
          "execution_count": 2
        }
      ]
    },
    {
      "cell_type": "markdown",
      "metadata": {
        "id": "j7YQFwV07R16",
        "colab_type": "text"
      },
      "source": [
        "[元のURL](https://youtu.be/kTJiHXJe_t4)"
      ]
    },
    {
      "cell_type": "markdown",
      "metadata": {
        "id": "CPy7YQiv7Uh2",
        "colab_type": "text"
      },
      "source": [
        "## Data Cellection Strategies\n",
        "\n",
        "### Center Driving\n",
        "\n",
        "データを収集する際は、可能な限り車線の真ん中を移動するようにしましょう。機械学習はあくまで人間やデータの真似事しかできないため、良質なデータを提供するようにしましょう。\n",
        "\n",
        "### Stratefies for Collecting Data\n",
        "\n",
        "- 車線の真ん中を移動する\n",
        "- 車が端に移動した場合は、すぎに中心に戻る\n",
        "- 反時計回りに運転すると、モデルを一般化できます\n",
        "- 画像を反転することは、データを増強する簡単な方法です\n",
        "- 2番目のトラックからデータを収集することも、モデルの一般化に役立ちます\n",
        "- モデルをトレーニングするときに、オーバーフィットまたはアンダーフィットを避けたい\n",
        "- データの収集をいつ停止するかを知る"
      ]
    },
    {
      "cell_type": "markdown",
      "metadata": {
        "id": "dRuyD9VAiGA4",
        "colab_type": "text"
      },
      "source": [
        "## Data Visualization\n",
        "\n",
        "[元の動画](https://youtu.be/_Gto6fQQWFI)\n",
        "\n",
        "以下のデータが保存されます。\n",
        "\n",
        "1. `IMG`フォルダ\n",
        "2. `driving_log.csv`"
      ]
    },
    {
      "cell_type": "code",
      "metadata": {
        "id": "IbNkib8SiF65",
        "colab_type": "code",
        "outputId": "d1ad1521-dcd6-43ca-d629-5f1f1df76475",
        "colab": {
          "base_uri": "https://localhost:8080/",
          "height": 341
        }
      },
      "source": [
        "HTML(r'<iframe width=\"568\" height=\"320\" src=\"https://www.youtube.com/embed/_Gto6fQQWFI\" frameborder=\"0\" allow=\"accelerometer; autoplay; encrypted-media; gyroscope; picture-in-picture\" allowfullscreen></iframe>')"
      ],
      "execution_count": 3,
      "outputs": [
        {
          "output_type": "execute_result",
          "data": {
            "text/html": [
              "<iframe width=\"568\" height=\"320\" src=\"https://www.youtube.com/embed/_Gto6fQQWFI\" frameborder=\"0\" allow=\"accelerometer; autoplay; encrypted-media; gyroscope; picture-in-picture\" allowfullscreen></iframe>"
            ],
            "text/plain": [
              "<IPython.core.display.HTML object>"
            ]
          },
          "metadata": {
            "tags": []
          },
          "execution_count": 3
        }
      ]
    },
    {
      "cell_type": "code",
      "metadata": {
        "id": "-R6dQt9K26XS",
        "colab_type": "code",
        "colab": {
          "base_uri": "https://localhost:8080/",
          "height": 34
        },
        "outputId": "a555544d-46e1-405e-bf8b-53970b9f67c4"
      },
      "source": [
        "!wget -q https://www.dropbox.com/s/n754nen4dixteg6/data2.zip?dl=0 -O data2.zip\n",
        "!unzip -q -o data2.zip\n",
        "!rm data2.zip\n",
        "!ls"
      ],
      "execution_count": 4,
      "outputs": [
        {
          "output_type": "stream",
          "text": [
            "data2  sample_data\n"
          ],
          "name": "stdout"
        }
      ]
    },
    {
      "cell_type": "code",
      "metadata": {
        "id": "8403zUfh26TS",
        "colab_type": "code",
        "colab": {}
      },
      "source": [
        "import csv\n",
        "\n",
        "\n",
        "lines = []\n",
        "with open('./data2/driving_log.csv') as csvfile:\n",
        "    reader = csv.reader(csvfile)\n",
        "    for line in reader:\n",
        "        lines.append(line)"
      ],
      "execution_count": 0,
      "outputs": []
    },
    {
      "cell_type": "code",
      "metadata": {
        "id": "TvPvc4HR26P2",
        "colab_type": "code",
        "colab": {
          "base_uri": "https://localhost:8080/",
          "height": 156
        },
        "outputId": "51d5724c-fb0d-4525-f821-28c7676f02b5"
      },
      "source": [
        "lines[0]"
      ],
      "execution_count": 6,
      "outputs": [
        {
          "output_type": "execute_result",
          "data": {
            "text/plain": [
              "['C:\\\\Users\\\\s-k85\\\\Downloads\\\\projects\\\\udacity-self-driving-cars\\\\pj4\\\\data2\\\\IMG\\\\center_2020_02_29_21_35_34_305.jpg',\n",
              " 'C:\\\\Users\\\\s-k85\\\\Downloads\\\\projects\\\\udacity-self-driving-cars\\\\pj4\\\\data2\\\\IMG\\\\left_2020_02_29_21_35_34_305.jpg',\n",
              " 'C:\\\\Users\\\\s-k85\\\\Downloads\\\\projects\\\\udacity-self-driving-cars\\\\pj4\\\\data2\\\\IMG\\\\right_2020_02_29_21_35_34_305.jpg',\n",
              " '0',\n",
              " '0',\n",
              " '0',\n",
              " '9.250956E-06']"
            ]
          },
          "metadata": {
            "tags": []
          },
          "execution_count": 6
        }
      ]
    },
    {
      "cell_type": "code",
      "metadata": {
        "id": "XeJa5VP16edc",
        "colab_type": "code",
        "colab": {}
      },
      "source": [
        "columns = [\n",
        "    'center',\n",
        "    'left',\n",
        "    'right',\n",
        "    'steering',\n",
        "    'throttle',\n",
        "    'brake',\n",
        "    'speed'\n",
        "]"
      ],
      "execution_count": 0,
      "outputs": []
    },
    {
      "cell_type": "markdown",
      "metadata": {
        "id": "RUj1zoyaiF3J",
        "colab_type": "text"
      },
      "source": [
        "## Training Your Network\n",
        "\n",
        "kerasを使用する。\n",
        "\n",
        "1. カメラの中心の画像をネットワークの入力にする\n",
        "2. ステアリング角度を決める\n",
        "\n",
        "学習後にモデルを`model.h5`といして保存します。\n",
        "[Save Your trained Model](https://keras.io/getting-started/faq/#how-can-i-save-a-keras-model)\n",
        "\n",
        "[元の動画](https://youtu.be/iYH4UvsPgOY)"
      ]
    },
    {
      "cell_type": "code",
      "metadata": {
        "id": "K9MCuJuniFzQ",
        "colab_type": "code",
        "outputId": "63336312-697f-4508-8018-710b8988d695",
        "colab": {
          "base_uri": "https://localhost:8080/",
          "height": 331
        }
      },
      "source": [
        "HTML(r'<iframe width=\"551\" height=\"310\" src=\"https://www.youtube.com/embed/iYH4UvsPgOY\" frameborder=\"0\" allow=\"accelerometer; autoplay; encrypted-media; gyroscope; picture-in-picture\" allowfullscreen></iframe>')"
      ],
      "execution_count": 8,
      "outputs": [
        {
          "output_type": "execute_result",
          "data": {
            "text/html": [
              "<iframe width=\"551\" height=\"310\" src=\"https://www.youtube.com/embed/iYH4UvsPgOY\" frameborder=\"0\" allow=\"accelerometer; autoplay; encrypted-media; gyroscope; picture-in-picture\" allowfullscreen></iframe>"
            ],
            "text/plain": [
              "<IPython.core.display.HTML object>"
            ]
          },
          "metadata": {
            "tags": []
          },
          "execution_count": 8
        }
      ]
    },
    {
      "cell_type": "code",
      "metadata": {
        "id": "w8Big-of4XAe",
        "colab_type": "code",
        "colab": {}
      },
      "source": [
        "import cv2\n",
        "import numpy as np\n",
        "import matplotlib.pyplot as plt\n",
        "\n",
        "\n",
        "images = []\n",
        "measurements = []\n",
        "for line in lines:\n",
        "    source_path = line[0]\n",
        "    filename = source_path.split('\\\\')[-1]\n",
        "    current_path = './data2/IMG/' + filename\n",
        "    image = cv2.imread(current_path)\n",
        "    images.append(image)\n",
        "    measurement = float(line[3])\n",
        "    measurements.append(measurement)\n",
        "\n",
        "\n",
        "X_train = np.array(images)\n",
        "y_train = np.array(measurements)"
      ],
      "execution_count": 0,
      "outputs": []
    },
    {
      "cell_type": "code",
      "metadata": {
        "id": "VpcXsbVc7DpO",
        "colab_type": "code",
        "colab": {
          "base_uri": "https://localhost:8080/",
          "height": 34
        },
        "outputId": "cdc24ec7-27ac-4341-d0e4-b7635634f662"
      },
      "source": [
        "X_train.shape, y_train.shape"
      ],
      "execution_count": 10,
      "outputs": [
        {
          "output_type": "execute_result",
          "data": {
            "text/plain": [
              "((4189, 160, 320, 3), (4189,))"
            ]
          },
          "metadata": {
            "tags": []
          },
          "execution_count": 10
        }
      ]
    },
    {
      "cell_type": "code",
      "metadata": {
        "id": "yMpTRqrp_Flt",
        "colab_type": "code",
        "colab": {
          "base_uri": "https://localhost:8080/",
          "height": 236
        },
        "outputId": "f5cb7810-c008-40cf-de65-8c71cf3e9ee4"
      },
      "source": [
        "plt.imshow(cv2.cvtColor(images[0], cv2.COLOR_BGR2RGB))"
      ],
      "execution_count": 11,
      "outputs": [
        {
          "output_type": "execute_result",
          "data": {
            "text/plain": [
              "<matplotlib.image.AxesImage at 0x7fef4b310438>"
            ]
          },
          "metadata": {
            "tags": []
          },
          "execution_count": 11
        },
        {
          "output_type": "display_data",
          "data": {
            "image/png": "[encoded data removed]",
            "text/plain": [
              "<Figure size 432x288 with 1 Axes>"
            ]
          },
          "metadata": {
            "tags": []
          }
        }
      ]
    },
    {
      "cell_type": "code",
      "metadata": {
        "id": "62t3MBMI4W9V",
        "colab_type": "code",
        "colab": {
          "base_uri": "https://localhost:8080/",
          "height": 1000
        },
        "outputId": "45237b4a-fc63-497d-c181-41975c452099"
      },
      "source": [
        "from keras.models import Sequential\n",
        "from keras.layers import Flatten, Dense\n",
        "\n",
        "\n",
        "model = Sequential()\n",
        "model.add(Flatten(input_shape=(160, 320, 3)))\n",
        "model.add(Dense(1))\n",
        "\n",
        "\n",
        "model.compile(loss='mse', optimizer='adam')\n",
        "model.fit(X_train, y_train, validation_split=0.2, shuffle=True, nb_epoch=15)"
      ],
      "execution_count": 12,
      "outputs": [
        {
          "output_type": "stream",
          "text": [
            "Using TensorFlow backend.\n"
          ],
          "name": "stderr"
        },
        {
          "output_type": "stream",
          "text": [
            "WARNING:tensorflow:From /usr/local/lib/python3.6/dist-packages/keras/backend/tensorflow_backend.py:66: The name tf.get_default_graph is deprecated. Please use tf.compat.v1.get_default_graph instead.\n",
            "\n",
            "WARNING:tensorflow:From /usr/local/lib/python3.6/dist-packages/keras/backend/tensorflow_backend.py:541: The name tf.placeholder is deprecated. Please use tf.compat.v1.placeholder instead.\n",
            "\n",
            "WARNING:tensorflow:From /usr/local/lib/python3.6/dist-packages/keras/backend/tensorflow_backend.py:4432: The name tf.random_uniform is deprecated. Please use tf.random.uniform instead.\n",
            "\n",
            "WARNING:tensorflow:From /usr/local/lib/python3.6/dist-packages/keras/optimizers.py:793: The name tf.train.Optimizer is deprecated. Please use tf.compat.v1.train.Optimizer instead.\n",
            "\n",
            "WARNING:tensorflow:From /usr/local/lib/python3.6/dist-packages/keras/backend/tensorflow_backend.py:1033: The name tf.assign_add is deprecated. Please use tf.compat.v1.assign_add instead.\n",
            "\n",
            "WARNING:tensorflow:From /usr/local/lib/python3.6/dist-packages/keras/backend/tensorflow_backend.py:1020: The name tf.assign is deprecated. Please use tf.compat.v1.assign instead.\n",
            "\n",
            "WARNING:tensorflow:From /usr/local/lib/python3.6/dist-packages/keras/backend/tensorflow_backend.py:3005: The name tf.Session is deprecated. Please use tf.compat.v1.Session instead.\n",
            "\n",
            "Train on 3351 samples, validate on 838 samples\n",
            "Epoch 1/15\n",
            "WARNING:tensorflow:From /usr/local/lib/python3.6/dist-packages/keras/backend/tensorflow_backend.py:190: The name tf.get_default_session is deprecated. Please use tf.compat.v1.get_default_session instead.\n",
            "\n",
            "WARNING:tensorflow:From /usr/local/lib/python3.6/dist-packages/keras/backend/tensorflow_backend.py:197: The name tf.ConfigProto is deprecated. Please use tf.compat.v1.ConfigProto instead.\n",
            "\n"
          ],
          "name": "stdout"
        },
        {
          "output_type": "stream",
          "text": [
            "/usr/local/lib/python3.6/dist-packages/ipykernel_launcher.py:11: UserWarning: The `nb_epoch` argument in `fit` has been renamed `epochs`.\n",
            "  # This is added back by InteractiveShellApp.init_path()\n"
          ],
          "name": "stderr"
        },
        {
          "output_type": "stream",
          "text": [
            "WARNING:tensorflow:From /usr/local/lib/python3.6/dist-packages/keras/backend/tensorflow_backend.py:207: The name tf.global_variables is deprecated. Please use tf.compat.v1.global_variables instead.\n",
            "\n",
            "WARNING:tensorflow:From /usr/local/lib/python3.6/dist-packages/keras/backend/tensorflow_backend.py:216: The name tf.is_variable_initialized is deprecated. Please use tf.compat.v1.is_variable_initialized instead.\n",
            "\n",
            "WARNING:tensorflow:From /usr/local/lib/python3.6/dist-packages/keras/backend/tensorflow_backend.py:223: The name tf.variables_initializer is deprecated. Please use tf.compat.v1.variables_initializer instead.\n",
            "\n",
            "3351/3351 [==============================] - 10s 3ms/step - loss: 18739952.8709 - val_loss: 14837.9676\n",
            "Epoch 2/15\n",
            "3351/3351 [==============================] - 1s 293us/step - loss: 8129.1978 - val_loss: 5543.3511\n",
            "Epoch 3/15\n",
            "3351/3351 [==============================] - 1s 317us/step - loss: 4212.1284 - val_loss: 3779.5789\n",
            "Epoch 4/15\n",
            "3351/3351 [==============================] - 1s 305us/step - loss: 3624.8620 - val_loss: 3096.8490\n",
            "Epoch 5/15\n",
            "3351/3351 [==============================] - 1s 303us/step - loss: 3539.4282 - val_loss: 1991.5862\n",
            "Epoch 6/15\n",
            "3351/3351 [==============================] - 1s 299us/step - loss: 3053.3854 - val_loss: 1775.2845\n",
            "Epoch 7/15\n",
            "3351/3351 [==============================] - 1s 296us/step - loss: 2366.1885 - val_loss: 2895.7668\n",
            "Epoch 8/15\n",
            "3351/3351 [==============================] - 1s 304us/step - loss: 3024.9289 - val_loss: 1908.3227\n",
            "Epoch 9/15\n",
            "3351/3351 [==============================] - 1s 299us/step - loss: 2132.0253 - val_loss: 1615.8134\n",
            "Epoch 10/15\n",
            "3351/3351 [==============================] - 1s 306us/step - loss: 1761.9069 - val_loss: 3198.8068\n",
            "Epoch 11/15\n",
            "3351/3351 [==============================] - 1s 304us/step - loss: 2563.7872 - val_loss: 1498.1912\n",
            "Epoch 12/15\n",
            "3351/3351 [==============================] - 1s 305us/step - loss: 2681.8203 - val_loss: 2703.7525\n",
            "Epoch 13/15\n",
            "3351/3351 [==============================] - 1s 304us/step - loss: 2590.4719 - val_loss: 3858.2198\n",
            "Epoch 14/15\n",
            "3351/3351 [==============================] - 1s 306us/step - loss: 1929.2055 - val_loss: 2519.6498\n",
            "Epoch 15/15\n",
            "3351/3351 [==============================] - 1s 299us/step - loss: 1754.3336 - val_loss: 5599.1799\n"
          ],
          "name": "stdout"
        },
        {
          "output_type": "execute_result",
          "data": {
            "text/plain": [
              "<keras.callbacks.History at 0x7fef0e1d2c88>"
            ]
          },
          "metadata": {
            "tags": []
          },
          "execution_count": 12
        }
      ]
    },
    {
      "cell_type": "code",
      "metadata": {
        "id": "-WZKE7MK4W6A",
        "colab_type": "code",
        "colab": {}
      },
      "source": [
        "model.save('model.h5')"
      ],
      "execution_count": 0,
      "outputs": []
    },
    {
      "cell_type": "code",
      "metadata": {
        "id": "Ilt5rVyxAoRv",
        "colab_type": "code",
        "colab": {}
      },
      "source": [
        ""
      ],
      "execution_count": 0,
      "outputs": []
    },
    {
      "cell_type": "code",
      "metadata": {
        "id": "0fNMvnZLAoNi",
        "colab_type": "code",
        "colab": {}
      },
      "source": [
        "# !wget https://www.dropbox.com/s/nv83v86mjt6hj85/model.h5?dl=0"
      ],
      "execution_count": 0,
      "outputs": []
    },
    {
      "cell_type": "code",
      "metadata": {
        "id": "qetlMUQC4WvF",
        "colab_type": "code",
        "colab": {}
      },
      "source": [
        "del X_train, y_train, images, measurements, model"
      ],
      "execution_count": 0,
      "outputs": []
    },
    {
      "cell_type": "markdown",
      "metadata": {
        "id": "aE9q3R5eiFvI",
        "colab_type": "text"
      },
      "source": [
        "## Running Your Network\n",
        "\n",
        "[元の動画](https://youtu.be/1UGOJGg-0dU)"
      ]
    },
    {
      "cell_type": "code",
      "metadata": {
        "id": "nwhcLdsIiFrg",
        "colab_type": "code",
        "outputId": "257cf637-d66d-4e03-8dfb-afc165bce1a6",
        "colab": {
          "base_uri": "https://localhost:8080/",
          "height": 331
        }
      },
      "source": [
        "HTML(r'<iframe width=\"551\" height=\"310\" src=\"https://www.youtube.com/embed/1UGOJGg-0dU\" frameborder=\"0\" allow=\"accelerometer; autoplay; encrypted-media; gyroscope; picture-in-picture\" allowfullscreen></iframe>')"
      ],
      "execution_count": 16,
      "outputs": [
        {
          "output_type": "execute_result",
          "data": {
            "text/html": [
              "<iframe width=\"551\" height=\"310\" src=\"https://www.youtube.com/embed/1UGOJGg-0dU\" frameborder=\"0\" allow=\"accelerometer; autoplay; encrypted-media; gyroscope; picture-in-picture\" allowfullscreen></iframe>"
            ],
            "text/plain": [
              "<IPython.core.display.HTML object>"
            ]
          },
          "metadata": {
            "tags": []
          },
          "execution_count": 16
        }
      ]
    },
    {
      "cell_type": "markdown",
      "metadata": {
        "id": "KlGuAtYv8H4C",
        "colab_type": "text"
      },
      "source": [
        "Github上の公式リポジトリをクローンして、`model.h5`を引数として指定してファイルを以下のように実行します。\n",
        "\n",
        "```sh\n",
        "python drive.py model.h5\n",
        "```\n",
        "\n",
        "こうするとシミュレータ上のアプリに対してポートが開かれるため、シミュレータで自動運転モードを実行しましょう。"
      ]
    },
    {
      "cell_type": "code",
      "metadata": {
        "id": "4aY47xst8H1a",
        "colab_type": "code",
        "colab": {}
      },
      "source": [
        ""
      ],
      "execution_count": 0,
      "outputs": []
    },
    {
      "cell_type": "code",
      "metadata": {
        "id": "z0BWjRNO8HyF",
        "colab_type": "code",
        "colab": {}
      },
      "source": [
        ""
      ],
      "execution_count": 0,
      "outputs": []
    },
    {
      "cell_type": "markdown",
      "metadata": {
        "id": "3mdGn_tMiFnY",
        "colab_type": "text"
      },
      "source": [
        "## Data Preprocessing\n",
        "\n",
        "前処理に関しては、kerasの[Lambda Layers](https://keras.io/layers/core/#lambda)を使用します。\n",
        "\n",
        "[元の動画](https://youtu.be/Oc7cLOS03PE)"
      ]
    },
    {
      "cell_type": "code",
      "metadata": {
        "id": "3Uw8SXdRDaCR",
        "colab_type": "code",
        "colab": {
          "base_uri": "https://localhost:8080/",
          "height": 331
        },
        "outputId": "8c97458e-1d2c-4fc5-e488-faeff09612d0"
      },
      "source": [
        "HTML(r'<iframe width=\"551\" height=\"310\" src=\"https://www.youtube.com/embed/Oc7cLOS03PE\" frameborder=\"0\" allow=\"accelerometer; autoplay; encrypted-media; gyroscope; picture-in-picture\" allowfullscreen></iframe>')"
      ],
      "execution_count": 17,
      "outputs": [
        {
          "output_type": "execute_result",
          "data": {
            "text/html": [
              "<iframe width=\"551\" height=\"310\" src=\"https://www.youtube.com/embed/Oc7cLOS03PE\" frameborder=\"0\" allow=\"accelerometer; autoplay; encrypted-media; gyroscope; picture-in-picture\" allowfullscreen></iframe>"
            ],
            "text/plain": [
              "<IPython.core.display.HTML object>"
            ]
          },
          "metadata": {
            "tags": []
          },
          "execution_count": 17
        }
      ]
    },
    {
      "cell_type": "code",
      "metadata": {
        "id": "KL2jNwWaSIFa",
        "colab_type": "code",
        "colab": {}
      },
      "source": [
        "import cv2\n",
        "import numpy as np\n",
        "import matplotlib.pyplot as plt\n",
        "\n",
        "\n",
        "images = []\n",
        "measurements = []\n",
        "for line in lines:\n",
        "    source_path = line[0]\n",
        "    filename = source_path.split('\\\\')[-1]\n",
        "    current_path = './data2/IMG/' + filename\n",
        "    image = cv2.imread(current_path)\n",
        "    images.append(image)\n",
        "    measurement = float(line[3])\n",
        "    measurements.append(measurement)\n",
        "\n",
        "\n",
        "X_train = np.array(images)\n",
        "y_train = np.array(measurements)"
      ],
      "execution_count": 0,
      "outputs": []
    },
    {
      "cell_type": "code",
      "metadata": {
        "id": "FJTblgkJDZ-Y",
        "colab_type": "code",
        "colab": {
          "base_uri": "https://localhost:8080/",
          "height": 139
        },
        "outputId": "d6e9bd85-595c-4e03-f1ae-a7e459e602ac"
      },
      "source": [
        "from keras.models import Sequential\n",
        "from keras.layers import Flatten, Dense, Lambda\n",
        "\n",
        "\n",
        "model = Sequential()\n",
        "model.add(Lambda(lambda x: x / 255.0 - 0.5, input_shape=(160, 320, 3)))\n",
        "model.add(Flatten())\n",
        "model.add(Dense(1))\n",
        "\n",
        "\n",
        "model.compile(loss='mse', optimizer='adam')\n",
        "model.fit(X_train, y_train, validation_split=0.2, shuffle=True, nb_epoch=1)"
      ],
      "execution_count": 20,
      "outputs": [
        {
          "output_type": "stream",
          "text": [
            "/usr/local/lib/python3.6/dist-packages/ipykernel_launcher.py:12: UserWarning: The `nb_epoch` argument in `fit` has been renamed `epochs`.\n",
            "  if sys.path[0] == '':\n"
          ],
          "name": "stderr"
        },
        {
          "output_type": "stream",
          "text": [
            "Train on 3351 samples, validate on 838 samples\n",
            "Epoch 1/1\n",
            "3351/3351 [==============================] - 1s 387us/step - loss: 3.5563 - val_loss: 0.2282\n"
          ],
          "name": "stdout"
        },
        {
          "output_type": "execute_result",
          "data": {
            "text/plain": [
              "<keras.callbacks.History at 0x7fee89a13b00>"
            ]
          },
          "metadata": {
            "tags": []
          },
          "execution_count": 20
        }
      ]
    },
    {
      "cell_type": "code",
      "metadata": {
        "id": "KC0m_dJwiFjt",
        "colab_type": "code",
        "colab": {}
      },
      "source": [
        "model.save('model-preprocessing.h5')"
      ],
      "execution_count": 0,
      "outputs": []
    },
    {
      "cell_type": "code",
      "metadata": {
        "id": "NRoGuxCtEwh7",
        "colab_type": "code",
        "colab": {}
      },
      "source": [
        ""
      ],
      "execution_count": 0,
      "outputs": []
    },
    {
      "cell_type": "code",
      "metadata": {
        "id": "VBy7MUfhSKhB",
        "colab_type": "code",
        "colab": {}
      },
      "source": [
        "del X_train, y_train, images, measurements, model"
      ],
      "execution_count": 0,
      "outputs": []
    },
    {
      "cell_type": "code",
      "metadata": {
        "id": "WFeOTM0PSKkf",
        "colab_type": "code",
        "colab": {}
      },
      "source": [
        ""
      ],
      "execution_count": 0,
      "outputs": []
    },
    {
      "cell_type": "markdown",
      "metadata": {
        "id": "fyq4GRq6iFfh",
        "colab_type": "text"
      },
      "source": [
        "## More Network\n",
        "\n",
        "[元の動画](https://youtu.be/rVusn6F5i7s)"
      ]
    },
    {
      "cell_type": "code",
      "metadata": {
        "id": "4UjfmSTNiFb4",
        "colab_type": "code",
        "outputId": "67fb23cc-780e-4327-bd72-97d3124ec8d4",
        "colab": {
          "base_uri": "https://localhost:8080/",
          "height": 357
        }
      },
      "source": [
        "HTML(r'<iframe width=\"598\" height=\"336\" src=\"https://www.youtube.com/embed/rVusn6F5i7s\" frameborder=\"0\" allow=\"accelerometer; autoplay; encrypted-media; gyroscope; picture-in-picture\" allowfullscreen></iframe>')"
      ],
      "execution_count": 23,
      "outputs": [
        {
          "output_type": "execute_result",
          "data": {
            "text/html": [
              "<iframe width=\"598\" height=\"336\" src=\"https://www.youtube.com/embed/rVusn6F5i7s\" frameborder=\"0\" allow=\"accelerometer; autoplay; encrypted-media; gyroscope; picture-in-picture\" allowfullscreen></iframe>"
            ],
            "text/plain": [
              "<IPython.core.display.HTML object>"
            ]
          },
          "metadata": {
            "tags": []
          },
          "execution_count": 23
        }
      ]
    },
    {
      "cell_type": "code",
      "metadata": {
        "id": "ihQH5-KmSZhJ",
        "colab_type": "code",
        "colab": {}
      },
      "source": [
        "import cv2\n",
        "import numpy as np\n",
        "import matplotlib.pyplot as plt\n",
        "\n",
        "\n",
        "images = []\n",
        "measurements = []\n",
        "for line in lines:\n",
        "    source_path = line[0]\n",
        "    filename = source_path.split('\\\\')[-1]\n",
        "    current_path = './data2/IMG/' + filename\n",
        "    image = cv2.imread(current_path)\n",
        "    images.append(image)\n",
        "    measurement = float(line[3])\n",
        "    measurements.append(measurement)\n",
        "\n",
        "\n",
        "X_train = np.array(images)\n",
        "y_train = np.array(measurements)"
      ],
      "execution_count": 0,
      "outputs": []
    },
    {
      "cell_type": "code",
      "metadata": {
        "id": "X9h7EuRaFuy4",
        "colab_type": "code",
        "colab": {
          "base_uri": "https://localhost:8080/",
          "height": 275
        },
        "outputId": "e99a29ce-6896-403a-d10d-5f3894b773f7"
      },
      "source": [
        "from keras.models import Sequential\n",
        "from keras.layers import Flatten, Dense, Lambda\n",
        "from keras.layers import Conv2D, AveragePooling2D\n",
        "\n",
        "\n",
        "model = Sequential()\n",
        "model.add(Lambda(lambda x: x / 255.0 - 0.5, input_shape=(160, 320, 3)))\n",
        "model.add(Conv2D(6, kernel_size=(5, 5), strides=(1, 1), padding='same', activation='relu'))\n",
        "model.add(AveragePooling2D((2, 2), strides=(2, 2)))\n",
        "model.add(Conv2D(16, kernel_size=(5, 5), strides=(1, 1), padding='same', activation='relu'))\n",
        "model.add(AveragePooling2D((2, 2), strides=(2, 2)))\n",
        "model.add(Flatten())\n",
        "model.add(Dense(120, activation='relu'))\n",
        "model.add(Dense(84, activation='relu'))\n",
        "model.add(Dense(1))\n",
        "\n",
        "\n",
        "model.compile(loss='mse', optimizer='adam')\n",
        "model.fit(X_train, y_train, validation_split=0.2, shuffle=True, epochs=5)"
      ],
      "execution_count": 25,
      "outputs": [
        {
          "output_type": "stream",
          "text": [
            "WARNING:tensorflow:From /usr/local/lib/python3.6/dist-packages/keras/backend/tensorflow_backend.py:4271: The name tf.nn.avg_pool is deprecated. Please use tf.nn.avg_pool2d instead.\n",
            "\n",
            "Train on 3351 samples, validate on 838 samples\n",
            "Epoch 1/5\n",
            "3351/3351 [==============================] - 8s 2ms/step - loss: 0.0863 - val_loss: 0.0200\n",
            "Epoch 2/5\n",
            "3351/3351 [==============================] - 3s 769us/step - loss: 0.0127 - val_loss: 0.0181\n",
            "Epoch 3/5\n",
            "3351/3351 [==============================] - 3s 769us/step - loss: 0.0113 - val_loss: 0.0166\n",
            "Epoch 4/5\n",
            "3351/3351 [==============================] - 3s 782us/step - loss: 0.0099 - val_loss: 0.0150\n",
            "Epoch 5/5\n",
            "3351/3351 [==============================] - 3s 781us/step - loss: 0.0088 - val_loss: 0.0147\n"
          ],
          "name": "stdout"
        },
        {
          "output_type": "execute_result",
          "data": {
            "text/plain": [
              "<keras.callbacks.History at 0x7fee89968390>"
            ]
          },
          "metadata": {
            "tags": []
          },
          "execution_count": 25
        }
      ]
    },
    {
      "cell_type": "code",
      "metadata": {
        "id": "BqGZJPXCFuqj",
        "colab_type": "code",
        "colab": {}
      },
      "source": [
        "model.save('model-lenet.h5')"
      ],
      "execution_count": 0,
      "outputs": []
    },
    {
      "cell_type": "code",
      "metadata": {
        "id": "QFdc0HEvFulU",
        "colab_type": "code",
        "colab": {}
      },
      "source": [
        ""
      ],
      "execution_count": 0,
      "outputs": []
    },
    {
      "cell_type": "code",
      "metadata": {
        "id": "PuOPE69USbEe",
        "colab_type": "code",
        "colab": {}
      },
      "source": [
        "del X_train, y_train, images, measurements, model"
      ],
      "execution_count": 0,
      "outputs": []
    },
    {
      "cell_type": "code",
      "metadata": {
        "id": "RwFRl1QSSbIA",
        "colab_type": "code",
        "colab": {}
      },
      "source": [
        ""
      ],
      "execution_count": 0,
      "outputs": []
    },
    {
      "cell_type": "markdown",
      "metadata": {
        "id": "9zcYEJFKiFXL",
        "colab_type": "text"
      },
      "source": [
        "## Data Augmentation\n",
        "\n",
        "[元の動画](https://youtu.be/2oaB2_DhmF8)\n",
        "\n",
        "[filp method](http://docs.opencv.org/2.4/modules/core/doc/operations_on_arrays.html#flip)"
      ]
    },
    {
      "cell_type": "code",
      "metadata": {
        "id": "K0arwM6XHBwK",
        "colab_type": "code",
        "colab": {
          "base_uri": "https://localhost:8080/",
          "height": 331
        },
        "outputId": "c6b3ba80-34e3-4d6d-db09-b8c4b8fe0ae0"
      },
      "source": [
        "HTML(r'<iframe width=\"551\" height=\"310\" src=\"https://www.youtube.com/embed/2oaB2_DhmF8\" frameborder=\"0\" allow=\"accelerometer; autoplay; encrypted-media; gyroscope; picture-in-picture\" allowfullscreen></iframe>')"
      ],
      "execution_count": 28,
      "outputs": [
        {
          "output_type": "execute_result",
          "data": {
            "text/html": [
              "<iframe width=\"551\" height=\"310\" src=\"https://www.youtube.com/embed/2oaB2_DhmF8\" frameborder=\"0\" allow=\"accelerometer; autoplay; encrypted-media; gyroscope; picture-in-picture\" allowfullscreen></iframe>"
            ],
            "text/plain": [
              "<IPython.core.display.HTML object>"
            ]
          },
          "metadata": {
            "tags": []
          },
          "execution_count": 28
        }
      ]
    },
    {
      "cell_type": "code",
      "metadata": {
        "id": "sWbe51rzSyeK",
        "colab_type": "code",
        "colab": {}
      },
      "source": [
        "images = []\n",
        "measurements = []\n",
        "for line in lines:\n",
        "    source_path = line[0]\n",
        "    filename = source_path.split('\\\\')[-1]\n",
        "    current_path = './data2/IMG/' + filename\n",
        "    image = cv2.imread(current_path)\n",
        "    images.append(image)\n",
        "    measurement = float(line[3])\n",
        "    measurements.append(measurement)"
      ],
      "execution_count": 0,
      "outputs": []
    },
    {
      "cell_type": "code",
      "metadata": {
        "id": "aog_ki5UnBqk",
        "colab_type": "code",
        "colab": {}
      },
      "source": [
        "augmented_images = []\n",
        "augmented_measurements = []\n",
        "for image, measurement in zip(images, measurements):\n",
        "    augmented_images.append(image)\n",
        "    augmented_measurements.append(measurement)\n",
        "\n",
        "    augmented_images.append(cv2.flip(image, 1))\n",
        "    augmented_measurements.append(measurement * -1.0)\n",
        "\n",
        "\n",
        "X_train = np.array(augmented_images)\n",
        "y_train = np.array(augmented_measurements)"
      ],
      "execution_count": 0,
      "outputs": []
    },
    {
      "cell_type": "code",
      "metadata": {
        "id": "eb6lI_QvIIqM",
        "colab_type": "code",
        "colab": {
          "base_uri": "https://localhost:8080/",
          "height": 221
        },
        "outputId": "04abc924-4c33-4281-d851-300da95ec0f8"
      },
      "source": [
        "from keras.models import Sequential\n",
        "from keras.layers import Flatten, Dense, Lambda\n",
        "from keras.layers import Conv2D, AveragePooling2D\n",
        "\n",
        "\n",
        "model = Sequential()\n",
        "model.add(Lambda(lambda x: x / 255.0 - 0.5, input_shape=(160, 320, 3)))\n",
        "model.add(Conv2D(6, kernel_size=(5, 5), strides=(1, 1), padding='same', activation='relu'))\n",
        "model.add(AveragePooling2D((2, 2), strides=(2, 2)))\n",
        "model.add(Conv2D(16, kernel_size=(5, 5), strides=(1, 1), padding='same', activation='relu'))\n",
        "model.add(AveragePooling2D((2, 2), strides=(2, 2)))\n",
        "model.add(Flatten())\n",
        "model.add(Dense(120, activation='relu'))\n",
        "model.add(Dense(84, activation='relu'))\n",
        "model.add(Dense(1))\n",
        "\n",
        "\n",
        "model.compile(loss='mse', optimizer='adam')\n",
        "model.fit(X_train, y_train, validation_split=0.2, shuffle=True, epochs=5)"
      ],
      "execution_count": 31,
      "outputs": [
        {
          "output_type": "stream",
          "text": [
            "Train on 6702 samples, validate on 1676 samples\n",
            "Epoch 1/5\n",
            "6702/6702 [==============================] - 6s 884us/step - loss: 0.0391 - val_loss: 0.0167\n",
            "Epoch 2/5\n",
            "6702/6702 [==============================] - 5s 775us/step - loss: 0.0105 - val_loss: 0.0152\n",
            "Epoch 3/5\n",
            "6702/6702 [==============================] - 5s 770us/step - loss: 0.0086 - val_loss: 0.0153\n",
            "Epoch 4/5\n",
            "6702/6702 [==============================] - 5s 773us/step - loss: 0.0072 - val_loss: 0.0163\n",
            "Epoch 5/5\n",
            "6702/6702 [==============================] - 5s 775us/step - loss: 0.0050 - val_loss: 0.0207\n"
          ],
          "name": "stdout"
        },
        {
          "output_type": "execute_result",
          "data": {
            "text/plain": [
              "<keras.callbacks.History at 0x7fee896c6a90>"
            ]
          },
          "metadata": {
            "tags": []
          },
          "execution_count": 31
        }
      ]
    },
    {
      "cell_type": "code",
      "metadata": {
        "id": "y1u_PVOO7Zkx",
        "colab_type": "code",
        "colab": {}
      },
      "source": [
        "model.save('model-lenet-augment.h5')"
      ],
      "execution_count": 0,
      "outputs": []
    },
    {
      "cell_type": "code",
      "metadata": {
        "id": "aNpRgsz_IQGN",
        "colab_type": "code",
        "colab": {}
      },
      "source": [
        ""
      ],
      "execution_count": 0,
      "outputs": []
    },
    {
      "cell_type": "code",
      "metadata": {
        "id": "WIr8PuuYS2IZ",
        "colab_type": "code",
        "colab": {}
      },
      "source": [
        "del X_train, y_train, images, measurements, model"
      ],
      "execution_count": 0,
      "outputs": []
    },
    {
      "cell_type": "code",
      "metadata": {
        "id": "Vnz_Zfg6IQKE",
        "colab_type": "code",
        "colab": {}
      },
      "source": [
        ""
      ],
      "execution_count": 0,
      "outputs": []
    },
    {
      "cell_type": "markdown",
      "metadata": {
        "id": "OSdJwIuCm9cy",
        "colab_type": "text"
      },
      "source": [
        "## Using Multiple Cameras\n",
        "\n",
        "[元の講義](https://classroom.udacity.com/nanodegrees/nd013/parts/168c60f1-cc92-450a-a91b-e427c326e6a7/modules/6b6c37bc-13a5-47c7-88ed-eb1fce9789a0/lessons/3fc8dd70-23b3-4f49-86eb-a8707f71f8dd/concepts/2cd424ad-a661-4754-8421-aec8cb018005)\n",
        "\n",
        "[元の動画](https://youtu.be/GumTdw9mjL0)"
      ]
    },
    {
      "cell_type": "code",
      "metadata": {
        "id": "uhx-UdUcn6bo",
        "colab_type": "code",
        "outputId": "bbe40a19-d4a6-4423-d6d6-06c8fe07eb68",
        "colab": {
          "base_uri": "https://localhost:8080/",
          "height": 331
        }
      },
      "source": [
        "HTML(r'<iframe width=\"551\" height=\"310\" src=\"https://www.youtube.com/embed/GumTdw9mjL0\" frameborder=\"0\" allow=\"accelerometer; autoplay; encrypted-media; gyroscope; picture-in-picture\" allowfullscreen></iframe>')"
      ],
      "execution_count": 34,
      "outputs": [
        {
          "output_type": "execute_result",
          "data": {
            "text/html": [
              "<iframe width=\"551\" height=\"310\" src=\"https://www.youtube.com/embed/GumTdw9mjL0\" frameborder=\"0\" allow=\"accelerometer; autoplay; encrypted-media; gyroscope; picture-in-picture\" allowfullscreen></iframe>"
            ],
            "text/plain": [
              "<IPython.core.display.HTML object>"
            ]
          },
          "metadata": {
            "tags": []
          },
          "execution_count": 34
        }
      ]
    },
    {
      "cell_type": "markdown",
      "metadata": {
        "id": "fsbmq5gWL_rS",
        "colab_type": "text"
      },
      "source": [
        "実際のカメラでは、車体に複数のカメラが取り付けられており、各カメラを使用します。\n",
        "\n",
        "中央の画像と左の画像を使用して学習に使用する場合、同じステアリングの角度を使用してはいけません。車を徐々に左に傾けていく場合、中央の画像から撮影された画像と紐づいているステアリング角度に対して、左から見る場合にはステアリング角度をより緩やかにする必要があります。\n",
        "\n",
        "NVIDIAの[論文](http://images.nvidia.com/content/tegra/automotive/images/2016/solutions/pdf/end-to-end-dl-using-px.pdf)"
      ]
    },
    {
      "cell_type": "markdown",
      "metadata": {
        "id": "ZWtNqtOeL_Y0",
        "colab_type": "text"
      },
      "source": [
        "![](https://i.gyazo.com/204702781c8c0d20e1a3e196be8615bc.png)\n"
      ]
    },
    {
      "cell_type": "code",
      "metadata": {
        "id": "r29Ek0dOOihD",
        "colab_type": "code",
        "colab": {}
      },
      "source": [
        "def get_fname(path):\n",
        "    return path.split('\\\\')[-1]"
      ],
      "execution_count": 0,
      "outputs": []
    },
    {
      "cell_type": "code",
      "metadata": {
        "id": "ZJTNm1zl0HyW",
        "colab_type": "code",
        "colab": {}
      },
      "source": [
        "images = []\n",
        "measurements = []\n",
        "for line in lines:\n",
        "    correction = 0.2\n",
        "    for i in range(3):\n",
        "        steering = float(line[3])\n",
        "        if i == 1:\n",
        "            steering += + correction\n",
        "        elif i == 2:  \n",
        "            steering -= correction\n",
        "\n",
        "        dirpath = 'data2/IMG/'\n",
        "        image = cv2.imread(dirpath + get_fname(line[i]))\n",
        "        \n",
        "        images.append(image)\n",
        "        measurements.append(steering)\n",
        "        images.append(cv2.flip(image, 1))\n",
        "        measurements.append(steering * -1.0)\n",
        "        \n",
        "\n",
        "X_train = np.array(images)\n",
        "y_train = np.array(measurements)"
      ],
      "execution_count": 0,
      "outputs": []
    },
    {
      "cell_type": "code",
      "metadata": {
        "id": "mkz3CijG0Hu4",
        "colab_type": "code",
        "colab": {
          "base_uri": "https://localhost:8080/",
          "height": 34
        },
        "outputId": "f78ee78c-46d7-4e87-d829-7f787750a9d4"
      },
      "source": [
        "X_train.shape, y_train.shape"
      ],
      "execution_count": 37,
      "outputs": [
        {
          "output_type": "execute_result",
          "data": {
            "text/plain": [
              "((25134, 160, 320, 3), (25134,))"
            ]
          },
          "metadata": {
            "tags": []
          },
          "execution_count": 37
        }
      ]
    },
    {
      "cell_type": "code",
      "metadata": {
        "id": "p0vFT5UT0HgI",
        "colab_type": "code",
        "colab": {
          "base_uri": "https://localhost:8080/",
          "height": 221
        },
        "outputId": "01375f1c-bc0d-48d8-a117-3bae17432c11"
      },
      "source": [
        "from keras.models import Sequential\n",
        "from keras.layers import Flatten, Dense, Lambda\n",
        "from keras.layers import Conv2D, AveragePooling2D\n",
        "\n",
        "\n",
        "model = Sequential()\n",
        "model.add(Lambda(lambda x: x / 255.0 - 0.5, input_shape=(160, 320, 3)))\n",
        "model.add(Conv2D(6, kernel_size=(5, 5), strides=(1, 1), padding='same', activation='relu'))\n",
        "model.add(AveragePooling2D((2, 2), strides=(2, 2)))\n",
        "model.add(Conv2D(16, kernel_size=(5, 5), strides=(1, 1), padding='same', activation='relu'))\n",
        "model.add(AveragePooling2D((2, 2), strides=(2, 2)))\n",
        "model.add(Flatten())\n",
        "model.add(Dense(120, activation='relu'))\n",
        "model.add(Dense(84, activation='relu'))\n",
        "model.add(Dense(1))\n",
        "\n",
        "\n",
        "model.compile(loss='mse', optimizer='adam')\n",
        "model.fit(X_train, y_train, validation_split=0.2, shuffle=True, epochs=5)"
      ],
      "execution_count": 38,
      "outputs": [
        {
          "output_type": "stream",
          "text": [
            "Train on 20107 samples, validate on 5027 samples\n",
            "Epoch 1/5\n",
            "20107/20107 [==============================] - 16s 812us/step - loss: 0.0193 - val_loss: 0.0151\n",
            "Epoch 2/5\n",
            "20107/20107 [==============================] - 15s 766us/step - loss: 0.0092 - val_loss: 0.0160\n",
            "Epoch 3/5\n",
            "20107/20107 [==============================] - 16s 779us/step - loss: 0.0075 - val_loss: 0.0169\n",
            "Epoch 4/5\n",
            "20107/20107 [==============================] - 16s 777us/step - loss: 0.0059 - val_loss: 0.0187\n",
            "Epoch 5/5\n",
            "20107/20107 [==============================] - 16s 773us/step - loss: 0.0044 - val_loss: 0.0186\n"
          ],
          "name": "stdout"
        },
        {
          "output_type": "execute_result",
          "data": {
            "text/plain": [
              "<keras.callbacks.History at 0x7fede593efd0>"
            ]
          },
          "metadata": {
            "tags": []
          },
          "execution_count": 38
        }
      ]
    },
    {
      "cell_type": "code",
      "metadata": {
        "id": "cEJf79YgTU7w",
        "colab_type": "code",
        "colab": {}
      },
      "source": [
        "model.save('model-lenet-augment-3direction.h5')"
      ],
      "execution_count": 0,
      "outputs": []
    },
    {
      "cell_type": "code",
      "metadata": {
        "id": "wCZPo2XZTU3Z",
        "colab_type": "code",
        "colab": {}
      },
      "source": [
        ""
      ],
      "execution_count": 0,
      "outputs": []
    },
    {
      "cell_type": "code",
      "metadata": {
        "id": "j5u7xL5Y0Hcl",
        "colab_type": "code",
        "colab": {}
      },
      "source": [
        "del X_train, y_train, images, measurements, model"
      ],
      "execution_count": 0,
      "outputs": []
    },
    {
      "cell_type": "code",
      "metadata": {
        "id": "JnWwKMTu0HYO",
        "colab_type": "code",
        "colab": {}
      },
      "source": [
        ""
      ],
      "execution_count": 0,
      "outputs": []
    },
    {
      "cell_type": "markdown",
      "metadata": {
        "id": "xe7Tu7tAn7Ug",
        "colab_type": "text"
      },
      "source": [
        "## Keras Cropping Image\n",
        "\n",
        "[元の動画](https://youtu.be/SpPxyW-869U)"
      ]
    },
    {
      "cell_type": "code",
      "metadata": {
        "id": "HKAkB2GsTveQ",
        "colab_type": "code",
        "colab": {}
      },
      "source": [
        ""
      ],
      "execution_count": 0,
      "outputs": []
    },
    {
      "cell_type": "code",
      "metadata": {
        "id": "96RodfryTvhU",
        "colab_type": "code",
        "colab": {}
      },
      "source": [
        ""
      ],
      "execution_count": 0,
      "outputs": []
    },
    {
      "cell_type": "code",
      "metadata": {
        "id": "qgiUDNSUTvkR",
        "colab_type": "code",
        "colab": {}
      },
      "source": [
        ""
      ],
      "execution_count": 0,
      "outputs": []
    },
    {
      "cell_type": "code",
      "metadata": {
        "id": "3OqV_x5iTvap",
        "colab_type": "code",
        "colab": {}
      },
      "source": [
        ""
      ],
      "execution_count": 0,
      "outputs": []
    },
    {
      "cell_type": "code",
      "metadata": {
        "id": "UmmexPBpTvH1",
        "colab_type": "code",
        "colab": {}
      },
      "source": [
        ""
      ],
      "execution_count": 0,
      "outputs": []
    }
  ]
}