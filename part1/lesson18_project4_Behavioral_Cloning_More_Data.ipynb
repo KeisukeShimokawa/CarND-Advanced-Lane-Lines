{
  "nbformat": 4,
  "nbformat_minor": 0,
  "metadata": {
    "colab": {
      "name": "lesson18 project4 Behavioral Cloning More Data.ipynb",
      "provenance": [],
      "collapsed_sections": [],
      "authorship_tag": "ABX9TyPtoNhNEQWjS/k264fGVJpT",
      "include_colab_link": true
    },
    "kernelspec": {
      "name": "python3",
      "display_name": "Python 3"
    },
    "accelerator": "GPU"
  },
  "cells": [
    {
      "cell_type": "markdown",
      "metadata": {
        "id": "view-in-github",
        "colab_type": "text"
      },
      "source": [
        "<a href=\"https://colab.research.google.com/github/KeisukeShimokawa/CarND-Advanced-Lane-Lines/blob/master/part1/lesson18_project4_Behavioral_Cloning_More_Data.ipynb\" target=\"_parent\"><img src=\"https://colab.research.google.com/assets/colab-badge.svg\" alt=\"Open In Colab\"/></a>"
      ]
    },
    {
      "cell_type": "markdown",
      "metadata": {
        "id": "36P82k3pjuDR",
        "colab_type": "text"
      },
      "source": [
        "# Lesson18 Bahavioral Cloning More Data"
      ]
    },
    {
      "cell_type": "markdown",
      "metadata": {
        "id": "2R7tubUHjt-8",
        "colab_type": "text"
      },
      "source": [
        "## SetUp"
      ]
    },
    {
      "cell_type": "code",
      "metadata": {
        "id": "1m63zWERiiSR",
        "colab_type": "code",
        "colab": {}
      },
      "source": [
        "%tensorflow_version 1.x"
      ],
      "execution_count": 0,
      "outputs": []
    },
    {
      "cell_type": "code",
      "metadata": {
        "id": "_2WyJlGviwne",
        "colab_type": "code",
        "colab": {}
      },
      "source": [
        "!wget -q https://www.dropbox.com/s/802qjuws26wp0ww/data-rev.zip -O data-rev.zip\n",
        "!unzip -q -o data-rev.zip\n",
        "!rm data-rev.zip\n",
        "\n",
        "!wget -q https://www.dropbox.com/s/g0bqpgstzv2ojv7/data.zip -O data.zip\n",
        "!unzip -q -o data.zip\n",
        "!rm data.zip"
      ],
      "execution_count": 0,
      "outputs": []
    },
    {
      "cell_type": "code",
      "metadata": {
        "id": "wLzbMYihjO4U",
        "colab_type": "code",
        "colab": {
          "base_uri": "https://localhost:8080/",
          "height": 34
        },
        "outputId": "64a2f276-0c0c-48c9-cd52-d615e3296e6b"
      },
      "source": [
        "!ls"
      ],
      "execution_count": 3,
      "outputs": [
        {
          "output_type": "stream",
          "text": [
            "data  data-rev\tsample_data\n"
          ],
          "name": "stdout"
        }
      ]
    },
    {
      "cell_type": "code",
      "metadata": {
        "id": "T7we0w27lCNO",
        "colab_type": "code",
        "colab": {
          "base_uri": "https://localhost:8080/",
          "height": 68
        },
        "outputId": "17d80524-b236-474b-fcb9-a4461b75f863"
      },
      "source": [
        "import tensorflow as tf\n",
        "import keras\n",
        "\n",
        "print(tf.__version__)\n",
        "print(keras.__version__)"
      ],
      "execution_count": 4,
      "outputs": [
        {
          "output_type": "stream",
          "text": [
            "1.15.0\n",
            "2.2.5\n"
          ],
          "name": "stdout"
        },
        {
          "output_type": "stream",
          "text": [
            "Using TensorFlow backend.\n"
          ],
          "name": "stderr"
        }
      ]
    },
    {
      "cell_type": "markdown",
      "metadata": {
        "id": "4UFSCPxgjsqF",
        "colab_type": "text"
      },
      "source": [
        "## fit_generator"
      ]
    },
    {
      "cell_type": "code",
      "metadata": {
        "id": "bxzCq2xQjQR7",
        "colab_type": "code",
        "colab": {}
      },
      "source": [
        "import os\n",
        "import csv\n",
        "import cv2\n",
        "import numpy as np\n",
        "import matplotlib.pyplot as plt\n",
        "from tqdm import tqdm\n",
        "from sklearn.model_selection import train_test_split\n",
        "\n",
        "from keras.models import Sequential\n",
        "from keras.layers import Flatten, Dense, Lambda, Cropping2D, Dropout\n",
        "from keras.layers import Conv2D, MaxPooling2D, BatchNormalization"
      ],
      "execution_count": 0,
      "outputs": []
    },
    {
      "cell_type": "code",
      "metadata": {
        "id": "KLce1M4CmAmC",
        "colab_type": "code",
        "colab": {}
      },
      "source": [
        "def get_lines_from_file(path):\n",
        "    \n",
        "    assert os.path.exists(path), \"path does not exist!!\"\n",
        "    \n",
        "    lines = []\n",
        "    with open(path) as csvfile:\n",
        "        reader = csv.reader(csvfile)\n",
        "        for line in reader:\n",
        "            lines.append(line)\n",
        "    return lines"
      ],
      "execution_count": 0,
      "outputs": []
    },
    {
      "cell_type": "code",
      "metadata": {
        "id": "EMDNMEp9mDPz",
        "colab_type": "code",
        "colab": {}
      },
      "source": [
        "def combine_multiple_lines(*args):\n",
        "    print('we got {} lines'.format(len(args)))\n",
        "\n",
        "    combine_lines = []\n",
        "    for arg in args:\n",
        "        combine_lines.extend(arg)\n",
        "\n",
        "    return combine_lines"
      ],
      "execution_count": 0,
      "outputs": []
    },
    {
      "cell_type": "code",
      "metadata": {
        "id": "LLTuxfcomWGL",
        "colab_type": "code",
        "colab": {}
      },
      "source": [
        "def get_all_lines(*paths):\n",
        "\n",
        "    lines = []\n",
        "    for path in paths:\n",
        "        lines.append(get_lines_from_file(path))\n",
        "\n",
        "    all_lines = combine_multiple_lines(*lines)\n",
        "    return all_lines"
      ],
      "execution_count": 0,
      "outputs": []
    },
    {
      "cell_type": "code",
      "metadata": {
        "id": "VAlXVg_1mZNb",
        "colab_type": "code",
        "colab": {
          "base_uri": "https://localhost:8080/",
          "height": 34
        },
        "outputId": "98887843-3dc5-425e-feee-0600e1dc0b92"
      },
      "source": [
        "all_path = [\n",
        "    'data/driving_log.csv', \n",
        "    'data-rev/driving_log.csv'\n",
        "]\n",
        "lines = get_all_lines(*all_path)"
      ],
      "execution_count": 9,
      "outputs": [
        {
          "output_type": "stream",
          "text": [
            "we got 2 lines\n"
          ],
          "name": "stdout"
        }
      ]
    },
    {
      "cell_type": "code",
      "metadata": {
        "id": "ArKSGEuenT2g",
        "colab_type": "code",
        "colab": {
          "base_uri": "https://localhost:8080/",
          "height": 34
        },
        "outputId": "1de52e1d-9307-4872-a82a-255e856d74ae"
      },
      "source": [
        "len(lines)"
      ],
      "execution_count": 10,
      "outputs": [
        {
          "output_type": "execute_result",
          "data": {
            "text/plain": [
              "9724"
            ]
          },
          "metadata": {
            "tags": []
          },
          "execution_count": 10
        }
      ]
    },
    {
      "cell_type": "code",
      "metadata": {
        "id": "UFI3hxxenoq0",
        "colab_type": "code",
        "colab": {}
      },
      "source": [
        ""
      ],
      "execution_count": 0,
      "outputs": []
    },
    {
      "cell_type": "code",
      "metadata": {
        "id": "mJCTyKKznons",
        "colab_type": "code",
        "colab": {}
      },
      "source": [
        "def get_fname(path):\n",
        "    return '/'.join(path.split('/')[-3:])"
      ],
      "execution_count": 0,
      "outputs": []
    },
    {
      "cell_type": "code",
      "metadata": {
        "id": "CZ1Wuow8nolN",
        "colab_type": "code",
        "colab": {
          "base_uri": "https://localhost:8080/",
          "height": 34
        },
        "outputId": "3efad808-f4f9-46bb-d960-41c262a8f844"
      },
      "source": [
        "get_fname(lines[-1][0])"
      ],
      "execution_count": 12,
      "outputs": [
        {
          "output_type": "execute_result",
          "data": {
            "text/plain": [
              "'data-rev/IMG/center_2020_03_01_12_38_12_234.jpg'"
            ]
          },
          "metadata": {
            "tags": []
          },
          "execution_count": 12
        }
      ]
    },
    {
      "cell_type": "code",
      "metadata": {
        "id": "Vs8Fvti1si7d",
        "colab_type": "code",
        "colab": {
          "base_uri": "https://localhost:8080/",
          "height": 34
        },
        "outputId": "56cef84b-c709-46ab-b741-bc0502f3ff53"
      },
      "source": [
        "get_fname(lines[0][0])"
      ],
      "execution_count": 13,
      "outputs": [
        {
          "output_type": "execute_result",
          "data": {
            "text/plain": [
              "'data/IMG/center_2020_03_01_12_10_18_792.jpg'"
            ]
          },
          "metadata": {
            "tags": []
          },
          "execution_count": 13
        }
      ]
    },
    {
      "cell_type": "code",
      "metadata": {
        "id": "rNGEPhqk3KxQ",
        "colab_type": "code",
        "colab": {}
      },
      "source": [
        ""
      ],
      "execution_count": 0,
      "outputs": []
    },
    {
      "cell_type": "code",
      "metadata": {
        "id": "i0UUlacv3DUn",
        "colab_type": "code",
        "colab": {}
      },
      "source": [
        ""
      ],
      "execution_count": 0,
      "outputs": []
    },
    {
      "cell_type": "markdown",
      "metadata": {
        "id": "SaayIwRnu9i2",
        "colab_type": "text"
      },
      "source": [
        "## Generator"
      ]
    },
    {
      "cell_type": "code",
      "metadata": {
        "id": "3RaoqTQGu9d2",
        "colab_type": "code",
        "colab": {}
      },
      "source": [
        "train_lines, valid_lines = train_test_split(lines, test_size=0.2, \n",
        "                                            random_state=0, shuffle=True)"
      ],
      "execution_count": 0,
      "outputs": []
    },
    {
      "cell_type": "code",
      "metadata": {
        "id": "oeoZI03Ru9bF",
        "colab_type": "code",
        "colab": {}
      },
      "source": [
        "class BatchGenerator(keras.utils.Sequence):\n",
        "    def __init__(self, lines, batch_size, target_image_dir='/opt/data/', is_both_side=False, is_flip=True):\n",
        "        self.lines = lines\n",
        "        self.target_image_dir = target_image_dir\n",
        "        self.is_both_side = is_both_side\n",
        "        self.is_flip = is_flip\n",
        "\n",
        "        self.batch_size = batch_size\n",
        "        self.actual_batch_size = batch_size\n",
        "        if is_both_side: self.actual_batch_size *= 3\n",
        "        if is_flip: self.actual_batch_size *= 2\n",
        "        print('actual batch size: {}'.format(self.actual_batch_size))\n",
        "\n",
        "        self.length = len(lines)\n",
        "        if is_both_side: self.length *= 3\n",
        "        if is_flip: self.length *= 2\n",
        "        print('total data length: {}'.format(self.length))\n",
        "\n",
        "        self.batches_per_epoch = int((self.length - 1) / self.actual_batch_size) + 1\n",
        "        print('batches per epoch: {}'.format(self.batches_per_epoch))\n",
        "\n",
        "    def __getitem__(self, idx):\n",
        "        batch_from = self.batch_size * idx\n",
        "        batch_to = batch_from + self.batch_size\n",
        "\n",
        "        if batch_to > self.length:\n",
        "            batch_to = self.length\n",
        "\n",
        "        x_batch, y_batch = self.get_image_and_steering(self.lines[batch_from:batch_to],\n",
        "                                                      self.target_image_dir,\n",
        "                                                      self.is_both_side,\n",
        "                                                      self.is_flip)\n",
        "\n",
        "        x_batch = np.array(x_batch)\n",
        "        y_batch = np.array(y_batch)\n",
        "        return x_batch, y_batch\n",
        "\n",
        "    def __len__(self):\n",
        "        return self.batches_per_epoch\n",
        "\n",
        "    def on_epoch_end(self):\n",
        "        pass\n",
        "\n",
        "    def get_image_and_steering(self, lines, target_image_dir='/opt/IMG/', is_both_side=True, is_flip=True):\n",
        "        n_side = 3 if is_both_side else 1\n",
        "        images = []\n",
        "        measurements = []\n",
        "        \n",
        "        for line in lines:\n",
        "            correction = 0.2         \n",
        "            steering = float(line[3])\n",
        "            \n",
        "            for i in range(n_side):    \n",
        "                if i == 1:\n",
        "                    # if camera is set on left\n",
        "                    steering += correction\n",
        "                elif i == 2:\n",
        "                    # if camera is set on right\n",
        "                    steering -= correction\n",
        "                    \n",
        "                image_path = target_image_dir + get_fname(line[i])\n",
        "                assert os.path.exists(image_path), \"image path is wrong: {}\".format(image_path)\n",
        "                image = cv2.imread(image_path)\n",
        "                \n",
        "                images.append(image)\n",
        "                measurements.append(steering)\n",
        "                \n",
        "                if is_flip:\n",
        "                    images.append(cv2.flip(image, 1))\n",
        "                    measurements.append(steering * -1.0)\n",
        "                \n",
        "        return images, measurements"
      ],
      "execution_count": 0,
      "outputs": []
    },
    {
      "cell_type": "code",
      "metadata": {
        "id": "RyxFdC3EvSA0",
        "colab_type": "code",
        "colab": {
          "base_uri": "https://localhost:8080/",
          "height": 119
        },
        "outputId": "8835e29d-0d0e-4415-f534-727307b4b747"
      },
      "source": [
        "train_batch_generator = BatchGenerator(train_lines, \n",
        "                                       batch_size=64, \n",
        "                                       target_image_dir='./',\n",
        "                                       is_both_side=False,\n",
        "                                       is_flip=True)\n",
        "valid_batch_generator = BatchGenerator(valid_lines, \n",
        "                                       batch_size=100, \n",
        "                                       target_image_dir='./',\n",
        "                                       is_both_side=False,\n",
        "                                       is_flip=False)"
      ],
      "execution_count": 16,
      "outputs": [
        {
          "output_type": "stream",
          "text": [
            "actual batch size: 128\n",
            "total data length: 15558\n",
            "batches per epoch: 122\n",
            "actual batch size: 100\n",
            "total data length: 1945\n",
            "batches per epoch: 20\n"
          ],
          "name": "stdout"
        }
      ]
    },
    {
      "cell_type": "code",
      "metadata": {
        "id": "e4V4DCLtvRyF",
        "colab_type": "code",
        "colab": {
          "base_uri": "https://localhost:8080/",
          "height": 34
        },
        "outputId": "0f7b2b8d-dd54-4076-b796-31be8b77bef9"
      },
      "source": [
        "len(train_lines), len(valid_lines)"
      ],
      "execution_count": 17,
      "outputs": [
        {
          "output_type": "execute_result",
          "data": {
            "text/plain": [
              "(7779, 1945)"
            ]
          },
          "metadata": {
            "tags": []
          },
          "execution_count": 17
        }
      ]
    },
    {
      "cell_type": "code",
      "metadata": {
        "id": "0MaK1mY14-nM",
        "colab_type": "code",
        "colab": {
          "base_uri": "https://localhost:8080/",
          "height": 34
        },
        "outputId": "8458d4e2-c3fa-4f02-e2ef-9190c7d3c1f8"
      },
      "source": [
        "len(train_lines)*6, len(valid_lines)*6"
      ],
      "execution_count": 18,
      "outputs": [
        {
          "output_type": "execute_result",
          "data": {
            "text/plain": [
              "(46674, 11670)"
            ]
          },
          "metadata": {
            "tags": []
          },
          "execution_count": 18
        }
      ]
    },
    {
      "cell_type": "markdown",
      "metadata": {
        "id": "jTj79CJaoghj",
        "colab_type": "text"
      },
      "source": [
        "## Model"
      ]
    },
    {
      "cell_type": "code",
      "metadata": {
        "id": "GDOTGLPwoglT",
        "colab_type": "code",
        "colab": {}
      },
      "source": [
        "def get_model(im_size, cropping):\n",
        "    model = Sequential()\n",
        "    model.add(Lambda(lambda x: x / 255.0 - 0.5, input_shape=im_size))\n",
        "    model.add(Cropping2D(cropping=cropping))\n",
        "    model.add(Conv2D(16, kernel_size=(5, 5), strides=(1, 1), padding='same', activation='relu'))\n",
        "    model.add(MaxPooling2D((2, 2), strides=(2, 2)))\n",
        "    model.add(Conv2D(32, kernel_size=(5, 5), strides=(1, 1), padding='same', activation='relu'))\n",
        "    model.add(MaxPooling2D((2, 2), strides=(2, 2)))\n",
        "    model.add(Conv2D(64, kernel_size=(5, 5), strides=(1, 1), padding='same', activation='relu'))\n",
        "    model.add(MaxPooling2D((2, 2), strides=(2, 2)))\n",
        "    model.add(Flatten())\n",
        "    model.add(Dense(128, activation='relu'))\n",
        "    model.add(Dropout(0.5))\n",
        "    model.add(Dense(64, activation='relu'))\n",
        "    model.add(Dropout(0.5))\n",
        "    model.add(Dense(1))\n",
        "    return model"
      ],
      "execution_count": 0,
      "outputs": []
    },
    {
      "cell_type": "code",
      "metadata": {
        "id": "aODG2TYNogsS",
        "colab_type": "code",
        "colab": {
          "base_uri": "https://localhost:8080/",
          "height": 292
        },
        "outputId": "39457d6e-2815-4f3e-8b63-78c15cf73fd0"
      },
      "source": [
        "im_size = (160, 320, 3)\n",
        "cropping = ((70, 20), (0, 0))\n",
        "\n",
        "model = get_model(im_size, cropping)\n",
        "model.compile(loss='mse', optimizer='adam')"
      ],
      "execution_count": 20,
      "outputs": [
        {
          "output_type": "stream",
          "text": [
            "WARNING:tensorflow:From /usr/local/lib/python3.6/dist-packages/keras/backend/tensorflow_backend.py:66: The name tf.get_default_graph is deprecated. Please use tf.compat.v1.get_default_graph instead.\n",
            "\n",
            "WARNING:tensorflow:From /usr/local/lib/python3.6/dist-packages/keras/backend/tensorflow_backend.py:541: The name tf.placeholder is deprecated. Please use tf.compat.v1.placeholder instead.\n",
            "\n",
            "WARNING:tensorflow:From /usr/local/lib/python3.6/dist-packages/keras/backend/tensorflow_backend.py:4432: The name tf.random_uniform is deprecated. Please use tf.random.uniform instead.\n",
            "\n",
            "WARNING:tensorflow:From /usr/local/lib/python3.6/dist-packages/keras/backend/tensorflow_backend.py:4267: The name tf.nn.max_pool is deprecated. Please use tf.nn.max_pool2d instead.\n",
            "\n",
            "WARNING:tensorflow:From /usr/local/lib/python3.6/dist-packages/keras/backend/tensorflow_backend.py:148: The name tf.placeholder_with_default is deprecated. Please use tf.compat.v1.placeholder_with_default instead.\n",
            "\n",
            "WARNING:tensorflow:From /usr/local/lib/python3.6/dist-packages/keras/backend/tensorflow_backend.py:3733: calling dropout (from tensorflow.python.ops.nn_ops) with keep_prob is deprecated and will be removed in a future version.\n",
            "Instructions for updating:\n",
            "Please use `rate` instead of `keep_prob`. Rate should be set to `rate = 1 - keep_prob`.\n",
            "WARNING:tensorflow:From /usr/local/lib/python3.6/dist-packages/keras/optimizers.py:793: The name tf.train.Optimizer is deprecated. Please use tf.compat.v1.train.Optimizer instead.\n",
            "\n"
          ],
          "name": "stdout"
        }
      ]
    },
    {
      "cell_type": "code",
      "metadata": {
        "id": "uoiFHMNbyn5z",
        "colab_type": "code",
        "colab": {
          "base_uri": "https://localhost:8080/",
          "height": 819
        },
        "outputId": "0bd0edcb-518f-4d31-b165-2ed80ff3476c"
      },
      "source": [
        "history = model.fit_generator(\n",
        "           train_batch_generator, \n",
        "           steps_per_epoch=train_batch_generator.batches_per_epoch, \n",
        "           validation_data=valid_batch_generator, \n",
        "           validation_steps=valid_batch_generator.batches_per_epoch,\n",
        "           epochs=15,\n",
        "           shuffle=True,\n",
        "           verbose=1)"
      ],
      "execution_count": 21,
      "outputs": [
        {
          "output_type": "stream",
          "text": [
            "WARNING:tensorflow:From /usr/local/lib/python3.6/dist-packages/keras/backend/tensorflow_backend.py:1033: The name tf.assign_add is deprecated. Please use tf.compat.v1.assign_add instead.\n",
            "\n",
            "WARNING:tensorflow:From /usr/local/lib/python3.6/dist-packages/keras/backend/tensorflow_backend.py:1020: The name tf.assign is deprecated. Please use tf.compat.v1.assign instead.\n",
            "\n",
            "WARNING:tensorflow:From /usr/local/lib/python3.6/dist-packages/keras/backend/tensorflow_backend.py:3005: The name tf.Session is deprecated. Please use tf.compat.v1.Session instead.\n",
            "\n",
            "Epoch 1/15\n",
            "WARNING:tensorflow:From /usr/local/lib/python3.6/dist-packages/keras/backend/tensorflow_backend.py:190: The name tf.get_default_session is deprecated. Please use tf.compat.v1.get_default_session instead.\n",
            "\n",
            "WARNING:tensorflow:From /usr/local/lib/python3.6/dist-packages/keras/backend/tensorflow_backend.py:197: The name tf.ConfigProto is deprecated. Please use tf.compat.v1.ConfigProto instead.\n",
            "\n",
            "WARNING:tensorflow:From /usr/local/lib/python3.6/dist-packages/keras/backend/tensorflow_backend.py:207: The name tf.global_variables is deprecated. Please use tf.compat.v1.global_variables instead.\n",
            "\n",
            "WARNING:tensorflow:From /usr/local/lib/python3.6/dist-packages/keras/backend/tensorflow_backend.py:216: The name tf.is_variable_initialized is deprecated. Please use tf.compat.v1.is_variable_initialized instead.\n",
            "\n",
            "WARNING:tensorflow:From /usr/local/lib/python3.6/dist-packages/keras/backend/tensorflow_backend.py:223: The name tf.variables_initializer is deprecated. Please use tf.compat.v1.variables_initializer instead.\n",
            "\n",
            "122/122 [==============================] - 33s 269ms/step - loss: 0.0614 - val_loss: 0.0484\n",
            "Epoch 2/15\n",
            "122/122 [==============================] - 17s 139ms/step - loss: 0.0478 - val_loss: 0.0479\n",
            "Epoch 3/15\n",
            "122/122 [==============================] - 17s 139ms/step - loss: 0.0463 - val_loss: 0.0466\n",
            "Epoch 4/15\n",
            "122/122 [==============================] - 17s 138ms/step - loss: 0.0437 - val_loss: 0.0463\n",
            "Epoch 5/15\n",
            "122/122 [==============================] - 17s 139ms/step - loss: 0.0434 - val_loss: 0.0391\n",
            "Epoch 6/15\n",
            "122/122 [==============================] - 17s 138ms/step - loss: 0.0418 - val_loss: 0.0403\n",
            "Epoch 7/15\n",
            "122/122 [==============================] - 17s 138ms/step - loss: 0.0415 - val_loss: 0.0419\n",
            "Epoch 8/15\n",
            "122/122 [==============================] - 17s 139ms/step - loss: 0.0409 - val_loss: 0.0452\n",
            "Epoch 9/15\n",
            "122/122 [==============================] - 17s 138ms/step - loss: 0.0400 - val_loss: 0.0412\n",
            "Epoch 10/15\n",
            "122/122 [==============================] - 17s 139ms/step - loss: 0.0386 - val_loss: 0.0403\n",
            "Epoch 11/15\n",
            "122/122 [==============================] - 17s 138ms/step - loss: 0.0384 - val_loss: 0.0493\n",
            "Epoch 12/15\n",
            "122/122 [==============================] - 17s 138ms/step - loss: 0.0380 - val_loss: 0.0421\n",
            "Epoch 13/15\n",
            "122/122 [==============================] - 17s 139ms/step - loss: 0.0368 - val_loss: 0.0400\n",
            "Epoch 14/15\n",
            "122/122 [==============================] - 17s 138ms/step - loss: 0.0355 - val_loss: 0.0401\n",
            "Epoch 15/15\n",
            "122/122 [==============================] - 17s 139ms/step - loss: 0.0350 - val_loss: 0.0374\n"
          ],
          "name": "stdout"
        }
      ]
    },
    {
      "cell_type": "code",
      "metadata": {
        "id": "I00cl-1SyyGg",
        "colab_type": "code",
        "colab": {
          "base_uri": "https://localhost:8080/",
          "height": 527
        },
        "outputId": "a9228c6a-bd33-46b2-c591-88b168d9fa41"
      },
      "source": [
        "history.history['loss'], history.history['val_loss']"
      ],
      "execution_count": 22,
      "outputs": [
        {
          "output_type": "execute_result",
          "data": {
            "text/plain": [
              "([0.061413918807767386,\n",
              "  0.04788120266043875,\n",
              "  0.04632605899133479,\n",
              "  0.04375583327265567,\n",
              "  0.043474990736847824,\n",
              "  0.0419028003876429,\n",
              "  0.04156995443180673,\n",
              "  0.04101105282775869,\n",
              "  0.040044984604139945,\n",
              "  0.038630625635082856,\n",
              "  0.03852243580451844,\n",
              "  0.03810701731974093,\n",
              "  0.036852502758896184,\n",
              "  0.035560514308346516,\n",
              "  0.03501332010381831],\n",
              " [0.04837116311785494,\n",
              "  0.047922977483364486,\n",
              "  0.04660340149558908,\n",
              "  0.04627242421965979,\n",
              "  0.03911175488812758,\n",
              "  0.04031124143145385,\n",
              "  0.04193467914981523,\n",
              "  0.04517626287391682,\n",
              "  0.041161064259650465,\n",
              "  0.04026066779056061,\n",
              "  0.049338476162566626,\n",
              "  0.04208116828054573,\n",
              "  0.03996271428419876,\n",
              "  0.04014404277989981,\n",
              "  0.03743145225095565])"
            ]
          },
          "metadata": {
            "tags": []
          },
          "execution_count": 22
        }
      ]
    },
    {
      "cell_type": "code",
      "metadata": {
        "id": "xBQ73qqN8LW9",
        "colab_type": "code",
        "colab": {}
      },
      "source": [
        "model.save('model.h5')"
      ],
      "execution_count": 0,
      "outputs": []
    },
    {
      "cell_type": "code",
      "metadata": {
        "id": "Gy7ctqdbDstF",
        "colab_type": "code",
        "colab": {}
      },
      "source": [
        ""
      ],
      "execution_count": 0,
      "outputs": []
    }
  ]
}