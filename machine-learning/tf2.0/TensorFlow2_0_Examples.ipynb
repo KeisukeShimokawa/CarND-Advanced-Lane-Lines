{
  "nbformat": 4,
  "nbformat_minor": 0,
  "metadata": {
    "colab": {
      "name": "TensorFlow2.0-Examples.ipynb",
      "provenance": [],
      "collapsed_sections": [],
      "authorship_tag": "ABX9TyPLr4RL4gh7qWUOnjQcOiEq",
      "include_colab_link": true
    },
    "kernelspec": {
      "name": "python3",
      "display_name": "Python 3"
    }
  },
  "cells": [
    {
      "cell_type": "markdown",
      "metadata": {
        "id": "view-in-github",
        "colab_type": "text"
      },
      "source": [
        "<a href=\"https://colab.research.google.com/github/KeisukeShimokawa/CarND-Advanced-Lane-Lines/blob/master/machine-learning/tf2.0/TensorFlow2_0_Examples.ipynb\" target=\"_parent\"><img src=\"https://colab.research.google.com/assets/colab-badge.svg\" alt=\"Open In Colab\"/></a>"
      ]
    },
    {
      "cell_type": "markdown",
      "metadata": {
        "id": "ph-oad-fMcMP",
        "colab_type": "text"
      },
      "source": [
        "[https://github.com/YunYang1994/TensorFlow2.0-Examples](https://github.com/YunYang1994/TensorFlow2.0-Examples)"
      ]
    },
    {
      "cell_type": "markdown",
      "metadata": {
        "id": "vjyZom5SMcIw",
        "colab_type": "text"
      },
      "source": [
        "## 1. Introduction"
      ]
    },
    {
      "cell_type": "code",
      "metadata": {
        "id": "-zxbu3lGMcFh",
        "colab_type": "code",
        "colab": {
          "base_uri": "https://localhost:8080/",
          "height": 34
        },
        "outputId": "4d8e4110-57d4-4c02-eb5b-cf83487db59d"
      },
      "source": [
        "%tensorflow_version 2.x"
      ],
      "execution_count": 1,
      "outputs": [
        {
          "output_type": "stream",
          "text": [
            "TensorFlow 2.x selected.\n"
          ],
          "name": "stdout"
        }
      ]
    },
    {
      "cell_type": "code",
      "metadata": {
        "id": "jdeFV9GIMcCW",
        "colab_type": "code",
        "colab": {
          "base_uri": "https://localhost:8080/",
          "height": 34
        },
        "outputId": "0177961a-836d-4594-a812-4dde03794677"
      },
      "source": [
        "import tensorflow as tf\n",
        "import numpy as np\n",
        "import matplotlib.pyplot as plt\n",
        "\n",
        "tf.__version__"
      ],
      "execution_count": 17,
      "outputs": [
        {
          "output_type": "execute_result",
          "data": {
            "text/plain": [
              "'2.1.0'"
            ]
          },
          "metadata": {
            "tags": []
          },
          "execution_count": 17
        }
      ]
    },
    {
      "cell_type": "markdown",
      "metadata": {
        "id": "gVVjnw4MMb-v",
        "colab_type": "text"
      },
      "source": [
        "### Hello World"
      ]
    },
    {
      "cell_type": "code",
      "metadata": {
        "id": "c3F8VBzMMb7X",
        "colab_type": "code",
        "colab": {
          "base_uri": "https://localhost:8080/",
          "height": 51
        },
        "outputId": "0593c612-bfa9-4264-84a2-dae1f697fc9b"
      },
      "source": [
        "helloworld = tf.constant('hello, TensorFlow')\n",
        "print(\"Tensor:\", helloworld)\n",
        "print(\"Value:\", helloworld.numpy())"
      ],
      "execution_count": 3,
      "outputs": [
        {
          "output_type": "stream",
          "text": [
            "Tensor: tf.Tensor(b'hello, TensorFlow', shape=(), dtype=string)\n",
            "Value: b'hello, TensorFlow'\n"
          ],
          "name": "stdout"
        }
      ]
    },
    {
      "cell_type": "markdown",
      "metadata": {
        "id": "yM8vbPLjMb4P",
        "colab_type": "text"
      },
      "source": [
        "### Variable"
      ]
    },
    {
      "cell_type": "code",
      "metadata": {
        "id": "spn2ol1HMb1A",
        "colab_type": "code",
        "colab": {
          "base_uri": "https://localhost:8080/",
          "height": 51
        },
        "outputId": "8c4ef73d-ffa2-464b-cf5d-4773cd6fda38"
      },
      "source": [
        "with tf.name_scope(\"my\"):\n",
        "    variable = tf.Variable(1)\n",
        "print(\"tensor:\", variable)\n",
        "print(\"value:\", variable.numpy())"
      ],
      "execution_count": 4,
      "outputs": [
        {
          "output_type": "stream",
          "text": [
            "tensor: <tf.Variable 'my/Variable:0' shape=() dtype=int32, numpy=1>\n",
            "value: 1\n"
          ],
          "name": "stdout"
        }
      ]
    },
    {
      "cell_type": "code",
      "metadata": {
        "id": "1WxWPOz_MX6x",
        "colab_type": "code",
        "colab": {
          "base_uri": "https://localhost:8080/",
          "height": 34
        },
        "outputId": "cb67278a-babb-4769-ce88-5c7041d0e752"
      },
      "source": [
        "variable = variable + 1\n",
        "print(\"value:\", variable.numpy())"
      ],
      "execution_count": 5,
      "outputs": [
        {
          "output_type": "stream",
          "text": [
            "value: 2\n"
          ],
          "name": "stdout"
        }
      ]
    },
    {
      "cell_type": "code",
      "metadata": {
        "id": "iE0CmDw7OKw-",
        "colab_type": "code",
        "colab": {
          "base_uri": "https://localhost:8080/",
          "height": 34
        },
        "outputId": "b16ea311-08a2-4c0c-89bd-2943184e6d15"
      },
      "source": [
        "variable = tf.Variable(2)\n",
        "variable.assign_add(1)\n",
        "print(\"value:\", variable.numpy())"
      ],
      "execution_count": 6,
      "outputs": [
        {
          "output_type": "stream",
          "text": [
            "value: 3\n"
          ],
          "name": "stdout"
        }
      ]
    },
    {
      "cell_type": "markdown",
      "metadata": {
        "id": "bLHx3c5zOLpP",
        "colab_type": "text"
      },
      "source": [
        "### Basic Operation"
      ]
    },
    {
      "cell_type": "code",
      "metadata": {
        "id": "zvwys7YBPb2o",
        "colab_type": "code",
        "colab": {
          "base_uri": "https://localhost:8080/",
          "height": 68
        },
        "outputId": "cd78c42b-478f-4d68-a291-b54f52c3d7b9"
      },
      "source": [
        "a = tf.ones([2,3])\n",
        "print(a)"
      ],
      "execution_count": 7,
      "outputs": [
        {
          "output_type": "stream",
          "text": [
            "tf.Tensor(\n",
            "[[1. 1. 1.]\n",
            " [1. 1. 1.]], shape=(2, 3), dtype=float32)\n"
          ],
          "name": "stdout"
        }
      ]
    },
    {
      "cell_type": "code",
      "metadata": {
        "id": "VH8dhexfPsnx",
        "colab_type": "code",
        "colab": {
          "base_uri": "https://localhost:8080/",
          "height": 68
        },
        "outputId": "a580b218-f7bc-487b-931e-ddc7759c4c46"
      },
      "source": [
        "a = tf.Variable(a)\n",
        "a[0,0].assign(10)\n",
        "b = a.read_value()\n",
        "print(b)"
      ],
      "execution_count": 8,
      "outputs": [
        {
          "output_type": "stream",
          "text": [
            "tf.Tensor(\n",
            "[[10.  1.  1.]\n",
            " [ 1.  1.  1.]], shape=(2, 3), dtype=float32)\n"
          ],
          "name": "stdout"
        }
      ]
    },
    {
      "cell_type": "code",
      "metadata": {
        "id": "H12ptIpCPv23",
        "colab_type": "code",
        "colab": {
          "base_uri": "https://localhost:8080/",
          "height": 119
        },
        "outputId": "f34adb05-b8c0-4858-dac4-7db51eeb1e94"
      },
      "source": [
        "a = tf.constant(2)\n",
        "b = tf.constant(3)\n",
        "\n",
        "print(\"a + b :\" , a.numpy() + b.numpy())\n",
        "print(\"Addition with constants: \", a+b)\n",
        "print(\"Addition with constants: \", tf.add(a, b))\n",
        "print(\"a * b :\" , a.numpy() * b.numpy())\n",
        "print(\"Multiplication with constants: \", a*b)\n",
        "print(\"Multiplication with constants: \", tf.multiply(a, b))"
      ],
      "execution_count": 9,
      "outputs": [
        {
          "output_type": "stream",
          "text": [
            "a + b : 5\n",
            "Addition with constants:  tf.Tensor(5, shape=(), dtype=int32)\n",
            "Addition with constants:  tf.Tensor(5, shape=(), dtype=int32)\n",
            "a * b : 6\n",
            "Multiplication with constants:  tf.Tensor(6, shape=(), dtype=int32)\n",
            "Multiplication with constants:  tf.Tensor(6, shape=(), dtype=int32)\n"
          ],
          "name": "stdout"
        }
      ]
    },
    {
      "cell_type": "code",
      "metadata": {
        "id": "iq_bYrDBP1jP",
        "colab_type": "code",
        "colab": {
          "base_uri": "https://localhost:8080/",
          "height": 34
        },
        "outputId": "d8c038f0-41a4-477a-8b00-836fa0179fda"
      },
      "source": [
        "matrix1 = tf.constant([[3., 3.]])\n",
        "matrix1"
      ],
      "execution_count": 10,
      "outputs": [
        {
          "output_type": "execute_result",
          "data": {
            "text/plain": [
              "<tf.Tensor: shape=(1, 2), dtype=float32, numpy=array([[3., 3.]], dtype=float32)>"
            ]
          },
          "metadata": {
            "tags": []
          },
          "execution_count": 10
        }
      ]
    },
    {
      "cell_type": "code",
      "metadata": {
        "id": "57O4WesXP_Jn",
        "colab_type": "code",
        "colab": {
          "base_uri": "https://localhost:8080/",
          "height": 68
        },
        "outputId": "e9ece794-9ae0-4ef0-eb8a-6f02d8560f85"
      },
      "source": [
        "matrix2 = tf.constant([[2.],[2.]])\n",
        "matrix2"
      ],
      "execution_count": 11,
      "outputs": [
        {
          "output_type": "execute_result",
          "data": {
            "text/plain": [
              "<tf.Tensor: shape=(2, 1), dtype=float32, numpy=\n",
              "array([[2.],\n",
              "       [2.]], dtype=float32)>"
            ]
          },
          "metadata": {
            "tags": []
          },
          "execution_count": 11
        }
      ]
    },
    {
      "cell_type": "code",
      "metadata": {
        "id": "h9UMU6zrQC1v",
        "colab_type": "code",
        "colab": {
          "base_uri": "https://localhost:8080/",
          "height": 34
        },
        "outputId": "e2011479-ce9c-4a44-84cd-93adcf8b34cb"
      },
      "source": [
        "product = tf.matmul(matrix1, matrix2)\n",
        "print(\"Multiplication with matrixes:\", product)"
      ],
      "execution_count": 12,
      "outputs": [
        {
          "output_type": "stream",
          "text": [
            "Multiplication with matrixes: tf.Tensor([[12.]], shape=(1, 1), dtype=float32)\n"
          ],
          "name": "stdout"
        }
      ]
    },
    {
      "cell_type": "code",
      "metadata": {
        "id": "THM97rhbQF-_",
        "colab_type": "code",
        "colab": {
          "base_uri": "https://localhost:8080/",
          "height": 68
        },
        "outputId": "0c4fa55c-ec82-44b0-f1b1-7c6331e0c0d2"
      },
      "source": [
        "print(\"broadcast matrix in Multiplication:\", matrix1 * matrix2)"
      ],
      "execution_count": 13,
      "outputs": [
        {
          "output_type": "stream",
          "text": [
            "broadcast matrix in Multiplication: tf.Tensor(\n",
            "[[6. 6.]\n",
            " [6. 6.]], shape=(2, 2), dtype=float32)\n"
          ],
          "name": "stdout"
        }
      ]
    },
    {
      "cell_type": "code",
      "metadata": {
        "id": "o-WGPQ9ZQLNP",
        "colab_type": "code",
        "colab": {
          "base_uri": "https://localhost:8080/",
          "height": 34
        },
        "outputId": "1241e410-cb7b-4868-b7ff-d249504b5053"
      },
      "source": [
        "a = tf.convert_to_tensor(2.)\n",
        "b = tf.cast(a, tf.int32)\n",
        "print(a, b)"
      ],
      "execution_count": 14,
      "outputs": [
        {
          "output_type": "stream",
          "text": [
            "tf.Tensor(2.0, shape=(), dtype=float32) tf.Tensor(2, shape=(), dtype=int32)\n"
          ],
          "name": "stdout"
        }
      ]
    },
    {
      "cell_type": "code",
      "metadata": {
        "id": "-_NvgTBtQSOn",
        "colab_type": "code",
        "colab": {
          "base_uri": "https://localhost:8080/",
          "height": 34
        },
        "outputId": "fab9fed3-3475-4d3e-bc6f-f0cfc4836d11"
      },
      "source": [
        "a = tf.ones([2,3])\n",
        "print(a.shape[0], a.shape[1])"
      ],
      "execution_count": 15,
      "outputs": [
        {
          "output_type": "stream",
          "text": [
            "2 3\n"
          ],
          "name": "stdout"
        }
      ]
    },
    {
      "cell_type": "code",
      "metadata": {
        "id": "D2Oquv3gQUMf",
        "colab_type": "code",
        "colab": {
          "base_uri": "https://localhost:8080/",
          "height": 34
        },
        "outputId": "7a907512-053c-4b0d-d973-664a2dc17b8f"
      },
      "source": [
        "shape = tf.shape(a)           # a tensor\n",
        "print(shape[0], shape[1])"
      ],
      "execution_count": 16,
      "outputs": [
        {
          "output_type": "stream",
          "text": [
            "tf.Tensor(2, shape=(), dtype=int32) tf.Tensor(3, shape=(), dtype=int32)\n"
          ],
          "name": "stdout"
        }
      ]
    },
    {
      "cell_type": "markdown",
      "metadata": {
        "id": "PfkyytZNQdMX",
        "colab_type": "text"
      },
      "source": [
        "### Activation"
      ]
    },
    {
      "cell_type": "code",
      "metadata": {
        "id": "UXaq3ph1QWFP",
        "colab_type": "code",
        "colab": {
          "base_uri": "https://localhost:8080/",
          "height": 357
        },
        "outputId": "8533169f-e4d8-448b-e1cb-e747689201a9"
      },
      "source": [
        "# fake data\n",
        "x = np.linspace(-5, 5, 100)\n",
        "x"
      ],
      "execution_count": 19,
      "outputs": [
        {
          "output_type": "execute_result",
          "data": {
            "text/plain": [
              "array([-5.        , -4.8989899 , -4.7979798 , -4.6969697 , -4.5959596 ,\n",
              "       -4.49494949, -4.39393939, -4.29292929, -4.19191919, -4.09090909,\n",
              "       -3.98989899, -3.88888889, -3.78787879, -3.68686869, -3.58585859,\n",
              "       -3.48484848, -3.38383838, -3.28282828, -3.18181818, -3.08080808,\n",
              "       -2.97979798, -2.87878788, -2.77777778, -2.67676768, -2.57575758,\n",
              "       -2.47474747, -2.37373737, -2.27272727, -2.17171717, -2.07070707,\n",
              "       -1.96969697, -1.86868687, -1.76767677, -1.66666667, -1.56565657,\n",
              "       -1.46464646, -1.36363636, -1.26262626, -1.16161616, -1.06060606,\n",
              "       -0.95959596, -0.85858586, -0.75757576, -0.65656566, -0.55555556,\n",
              "       -0.45454545, -0.35353535, -0.25252525, -0.15151515, -0.05050505,\n",
              "        0.05050505,  0.15151515,  0.25252525,  0.35353535,  0.45454545,\n",
              "        0.55555556,  0.65656566,  0.75757576,  0.85858586,  0.95959596,\n",
              "        1.06060606,  1.16161616,  1.26262626,  1.36363636,  1.46464646,\n",
              "        1.56565657,  1.66666667,  1.76767677,  1.86868687,  1.96969697,\n",
              "        2.07070707,  2.17171717,  2.27272727,  2.37373737,  2.47474747,\n",
              "        2.57575758,  2.67676768,  2.77777778,  2.87878788,  2.97979798,\n",
              "        3.08080808,  3.18181818,  3.28282828,  3.38383838,  3.48484848,\n",
              "        3.58585859,  3.68686869,  3.78787879,  3.88888889,  3.98989899,\n",
              "        4.09090909,  4.19191919,  4.29292929,  4.39393939,  4.49494949,\n",
              "        4.5959596 ,  4.6969697 ,  4.7979798 ,  4.8989899 ,  5.        ])"
            ]
          },
          "metadata": {
            "tags": []
          },
          "execution_count": 19
        }
      ]
    },
    {
      "cell_type": "code",
      "metadata": {
        "id": "gmkQ0GsiQ45o",
        "colab_type": "code",
        "colab": {
          "base_uri": "https://localhost:8080/",
          "height": 378
        },
        "outputId": "1133fe15-e535-4e75-c32e-73e9ab76b586"
      },
      "source": [
        "# following are popular activation functions\n",
        "y_relu = tf.nn.relu(x)\n",
        "y_sigmoid = tf.nn.sigmoid(x)\n",
        "y_tanh = tf.nn.tanh(x)\n",
        "y_softplus = tf.nn.softplus(x)\n",
        "# y_softmax = tf.nn.softmax(x)  softmax is a special kind of activation function, it is about probability\n",
        "\n",
        "# plt to visualize these activation function\n",
        "plt.figure(1, figsize=(8, 6))\n",
        "plt.subplot(221)\n",
        "plt.plot(x, y_relu, c='red', label='relu')\n",
        "plt.ylim((-1, 5))\n",
        "plt.legend(loc='best')\n",
        "\n",
        "plt.subplot(222)\n",
        "plt.plot(x, y_sigmoid, c='red', label='sigmoid')\n",
        "plt.ylim((-0.2, 1.2))\n",
        "plt.legend(loc='best')\n",
        "\n",
        "plt.subplot(223)\n",
        "plt.plot(x, y_tanh, c='red', label='tanh')\n",
        "plt.ylim((-1.2, 1.2))\n",
        "plt.legend(loc='best')\n",
        "\n",
        "plt.subplot(224)\n",
        "plt.plot(x, y_softplus, c='red', label='softplus')\n",
        "plt.ylim((-0.2, 6))\n",
        "plt.legend(loc='best')\n",
        "\n",
        "plt.show()"
      ],
      "execution_count": 20,
      "outputs": [
        {
          "output_type": "display_data",
          "data": {
            "image/png": "[encoded data removed]",
            "text/plain": [
              "<Figure size 576x432 with 4 Axes>"
            ]
          },
          "metadata": {
            "tags": []
          }
        }
      ]
    },
    {
      "cell_type": "code",
      "metadata": {
        "id": "Nfx1YNZ_Q82P",
        "colab_type": "code",
        "colab": {}
      },
      "source": [
        "??tf.nn.softplus"
      ],
      "execution_count": 0,
      "outputs": []
    },
    {
      "cell_type": "markdown",
      "metadata": {
        "id": "0fDZ6z7gRGAv",
        "colab_type": "text"
      },
      "source": [
        "### GradientTape "
      ]
    },
    {
      "cell_type": "code",
      "metadata": {
        "id": "eRRmfjCbRUE3",
        "colab_type": "code",
        "colab": {
          "base_uri": "https://localhost:8080/",
          "height": 51
        },
        "outputId": "aa7dc165-2ba1-44d6-9b12-3794760bca3e"
      },
      "source": [
        "x = tf.constant(3.0)\n",
        "with tf.GradientTape(persistent=True) as t:\n",
        "    t.watch(x)               # Ensures that `tensor` is being traced by this tape.\n",
        "    y = x * x\n",
        "    z = y * y\n",
        "\n",
        "dz_dx = t.gradient(z, x)  # 108.0 (4*x^3 at x = 3)\n",
        "dy_dx = t.gradient(y, x)  # 6.0\n",
        "print(\"dz/dx=\", dz_dx.numpy())\n",
        "print(\"dy/dx=\", dy_dx.numpy())\n",
        "del t  # Drop the reference to the tape"
      ],
      "execution_count": 22,
      "outputs": [
        {
          "output_type": "stream",
          "text": [
            "dz/dx= 108.0\n",
            "dy/dx= 6.0\n"
          ],
          "name": "stdout"
        }
      ]
    },
    {
      "cell_type": "code",
      "metadata": {
        "id": "5qdP0pzVRg3_",
        "colab_type": "code",
        "colab": {}
      },
      "source": [
        "def f(x, y):\n",
        "    output = 1.0\n",
        "    for i in range(y):\n",
        "        if i > 1 and i < 5:\n",
        "            output = tf.multiply(output, x)\n",
        "    return output\n",
        "\n",
        "def grad(x, y):\n",
        "    with tf.GradientTape() as t:\n",
        "        t.watch(x)\n",
        "        out = f(x, y)\n",
        "    return t.gradient(out, x)\n",
        "\n",
        "x = tf.convert_to_tensor(2.0)\n",
        "\n",
        "assert grad(x, 6).numpy() == 12.0\n",
        "assert grad(x, 5).numpy() == 12.0\n",
        "assert grad(x, 4).numpy() == 4.0"
      ],
      "execution_count": 0,
      "outputs": []
    },
    {
      "cell_type": "markdown",
      "metadata": {
        "id": "3jsxQcKjR5Jn",
        "colab_type": "text"
      },
      "source": [
        "## 2. Basic Models"
      ]
    },
    {
      "cell_type": "markdown",
      "metadata": {
        "id": "qol231ZlR_UP",
        "colab_type": "text"
      },
      "source": [
        "### Linear Regression"
      ]
    },
    {
      "cell_type": "code",
      "metadata": {
        "id": "gCeOo167SCOd",
        "colab_type": "code",
        "colab": {}
      },
      "source": [
        ""
      ],
      "execution_count": 0,
      "outputs": []
    },
    {
      "cell_type": "code",
      "metadata": {
        "id": "Lihi2oJ8SCKY",
        "colab_type": "code",
        "colab": {}
      },
      "source": [
        ""
      ],
      "execution_count": 0,
      "outputs": []
    },
    {
      "cell_type": "code",
      "metadata": {
        "id": "sYhgjKb8SCFv",
        "colab_type": "code",
        "colab": {}
      },
      "source": [
        ""
      ],
      "execution_count": 0,
      "outputs": []
    },
    {
      "cell_type": "code",
      "metadata": {
        "id": "0awAqJkqSCCk",
        "colab_type": "code",
        "colab": {}
      },
      "source": [
        ""
      ],
      "execution_count": 0,
      "outputs": []
    },
    {
      "cell_type": "code",
      "metadata": {
        "id": "nBNiMHlMSB_f",
        "colab_type": "code",
        "colab": {}
      },
      "source": [
        ""
      ],
      "execution_count": 0,
      "outputs": []
    },
    {
      "cell_type": "code",
      "metadata": {
        "id": "I5DMjPUGSB8B",
        "colab_type": "code",
        "colab": {}
      },
      "source": [
        ""
      ],
      "execution_count": 0,
      "outputs": []
    },
    {
      "cell_type": "code",
      "metadata": {
        "id": "mMe8rWsoSB4n",
        "colab_type": "code",
        "colab": {}
      },
      "source": [
        ""
      ],
      "execution_count": 0,
      "outputs": []
    },
    {
      "cell_type": "code",
      "metadata": {
        "id": "fAMYKvv7SB07",
        "colab_type": "code",
        "colab": {}
      },
      "source": [
        ""
      ],
      "execution_count": 0,
      "outputs": []
    },
    {
      "cell_type": "code",
      "metadata": {
        "id": "yk_pTAcfSBkP",
        "colab_type": "code",
        "colab": {}
      },
      "source": [
        ""
      ],
      "execution_count": 0,
      "outputs": []
    }
  ]
}